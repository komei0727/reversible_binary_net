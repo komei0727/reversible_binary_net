{
 "cells": [
  {
   "cell_type": "code",
   "execution_count": 1,
   "metadata": {},
   "outputs": [],
   "source": [
    "import numpy as np\n",
    "import random\n",
    "import matplotlib.pyplot as plt"
   ]
  },
  {
   "cell_type": "code",
   "execution_count": 8,
   "metadata": {},
   "outputs": [],
   "source": [
    "X_input = np.array([[0,0],[0,1],[1,0],[1,1]])\n",
    "X_label = np.array([1,1,0,0])"
   ]
  },
  {
   "cell_type": "code",
   "execution_count": 10,
   "metadata": {},
   "outputs": [],
   "source": [
    "E_all = np.zeros(1000)\n",
    "param_1_all = np.zeros([1000,2])\n",
    "param_2_all = np.zeros([1000,2])\n",
    "param_3_all = np.zeros(1000)"
   ]
  },
  {
   "cell_type": "code",
   "execution_count": 9,
   "metadata": {},
   "outputs": [],
   "source": [
    "param_1 = np.array([0,1])\n",
    "param_2 = np.array([0,0])\n",
    "param_3 = 0"
   ]
  },
  {
   "cell_type": "code",
   "execution_count": 11,
   "metadata": {},
   "outputs": [],
   "source": [
    "param_1 = np.random.rand(2)\n",
    "param_2 = np.random.rand(2)\n",
    "param_3 = np.random.rand()"
   ]
  },
  {
   "cell_type": "code",
   "execution_count": 12,
   "metadata": {},
   "outputs": [],
   "source": [
    "for epoch in range(1000):\n",
    "    X_1 = np.zeros(4)\n",
    "    X_2 = np.zeros(4)\n",
    "    number = epoch%4\n",
    "    X_in = np.array([X_input[number][0],X_input[number][0],X_input[number][1],X_input[number][1]])\n",
    "    X_1[0] = param_1[0]*X_in[0] + X_in[0]*X_in[2] - param_1[0]*X_in[0]*X_in[2]\n",
    "    X_1[1] = (1-param_1[0])*X_in[0] + param_1[0]*X_in[2]\n",
    "    X_1[2] = param_1[1]*X_in[1] + X_in[1]*X_in[3] - param_1[1]*X_in[1]*X_in[3]\n",
    "    X_1[3] = (1-param_1[1])*X_in[1] + param_1[1]*X_in[3]\n",
    "\n",
    "    X_2_in = np.array([1-X_1[0],1-X_1[0],X_1[2],X_1[3]])\n",
    "    X_2[0] = param_2[0]*X_2_in[0] + X_2_in[0]*X_2_in[2] - param_2[0]*X_2_in[0]*X_2_in[2]\n",
    "    X_2[1] = (1-param_2[0])*X_2_in[0] + param_2[0]*X_2_in[2]\n",
    "    X_2[2] = param_2[1]*X_2_in[1] + X_2_in[1]*X_2_in[3] - param_2[1]*X_2_in[1]*X_2_in[3]\n",
    "    X_2[3] = (1-param_2[1])*X_2_in[1] + param_2[1]*X_2_in[3]\n",
    "\n",
    "    X_3_in = np.array([1-X_2[0],1-X_2[2]])\n",
    "    X_3 = param_3*X_3_in[0] + X_3_in[0]*X_3_in[1] - param_3*X_3_in[0]*X_3_in[1]\n",
    "\n",
    "    X_out = 1 - X_3\n",
    "    \n",
    "    E = (X_out-X_label[number])**2 / 2\n",
    "    Pd_EX3 = X_label[number] - X_out\n",
    "    E_all[epoch] = E\n",
    "    \n",
    "    Pd_Ep3 = Pd_EX3*(X_3_in[0]*(1-X_3_in[1]))\n",
    "    \n",
    "    Pd_X20p20 = X_2_in[0] - X_2_in[0]*X_2_in[2]\n",
    "    Pd_X22p21 = X_2_in[1] - X_2_in[1]*X_2_in[3]\n",
    "    Pd_X3in0p20 = (-1) * Pd_X20p20\n",
    "    Pd_X3in1p21 = (-1) * Pd_X22p21\n",
    "    Pd_X3p20 = (param_3+X_3_in[1]-param_3*X_3_in[1]) * Pd_X3in0p20\n",
    "    Pd_X3p21 = (X_3_in[0] - param_3*X_3_in[0]) * Pd_X3in1p21\n",
    "    Pd_Ep20 = Pd_EX3 * Pd_X3p20\n",
    "    Pd_Ep21 = Pd_EX3 * Pd_X3p21\n",
    "    \n",
    "    Pd_X10p10 = X_in[0] - X_in[0]*X_in[2]\n",
    "    Pd_X2in0p10 = (-1)*Pd_X10p10\n",
    "    Pd_X2in1p10 = (-1)*Pd_X10p10\n",
    "    Pd_X20p10 = (param_2[0] + X_2_in[2] - param_2[0]*X_2_in[2]) * Pd_X2in0p10\n",
    "    Pd_X22p10 = (param_2[1] + X_2_in[3] - param_2[1]*X_2_in[3]) * Pd_X2in1p10\n",
    "    Pd_X3in0p10 = (-1)*Pd_X20p10\n",
    "    Pd_X3in1p10 = (-1)*Pd_X22p10\n",
    "    Pd_X3p10 = (param_3+X_3_in[1]-param_3*X_3_in[1])*Pd_X3in0p10 + (X_3_in[0]-param_3*X_3_in[0])*Pd_X3in1p10\n",
    "    Pd_Ep10 = Pd_EX3 * Pd_X3p10\n",
    "\n",
    "    Pd_X12p11 = X_in[1] - X_in[1]*X_in[3]\n",
    "    Pd_X13p11 = X_in[3] - X_in[1]\n",
    "    Pd_X2in2p11 = Pd_X12p11\n",
    "    Pd_X2in3p11 = Pd_X13p11\n",
    "    Pd_X20p11 = (X_2_in[0]-param_2[0]*X_2_in[0]) * Pd_X2in2p11\n",
    "    Pd_X22p11 = (X_2_in[1]-param_2[1]*X_2_in[1]) * Pd_X2in3p11\n",
    "    Pd_X3in0p11 = (-1)*Pd_X20p11\n",
    "    Pd_X3in1p11 = (-1)*Pd_X22p11\n",
    "    Pd_X3p11 = (param_3+X_3_in[1]-param_3*X_3_in[1])*Pd_X3in0p11 + (X_3_in[0]-param_3*X_3_in[0])*Pd_X3in1p11\n",
    "    Pd_Ep11 = Pd_EX3 * Pd_X3p11\n",
    "\n",
    "    param_1[0] = param_1[0] - 0.1*Pd_Ep10\n",
    "    param_1[1] = param_1[1] - 0.1*Pd_Ep11\n",
    "    param_2[0] = param_2[0] - 0.1*Pd_Ep20\n",
    "    param_2[1] = param_2[1] - 0.1*Pd_Ep21\n",
    "    param_3 = param_3 - 0.1*Pd_Ep3\n",
    "    if param_1[0]>1.0 or param_1[0]<0.0:\n",
    "        param_1[0] = param_1[0] + 0.1*Pd_Ep10\n",
    "    if param_1[1]>1.0 or param_1[1]<0.0:\n",
    "        param_1[1] = param_1[1] + 0.1*Pd_Ep11\n",
    "    if param_2[0]>1.0 or param_2[0]<0.0:\n",
    "        param_2[0] = param_2[0] + 0.1*Pd_Ep20\n",
    "    if param_2[1]>1.0 or param_2[1]<0.0:\n",
    "        param_2[1] = param_2[1] + 0.1*Pd_Ep21\n",
    "    if param_3>1.0 or param_3<0.0:\n",
    "        param_3 = param_3 + 0.1*Pd_Ep3\n",
    "        \n",
    "    param_1_all[epoch] = param_1\n",
    "    param_2_all[epoch] = param_2\n",
    "    param_3_all[epoch] =param_3"
   ]
  },
  {
   "cell_type": "code",
   "execution_count": 13,
   "metadata": {},
   "outputs": [],
   "source": [
    "t = np.linspace(1,1000,1000)"
   ]
  },
  {
   "cell_type": "code",
   "execution_count": 14,
   "metadata": {},
   "outputs": [
    {
     "data": {
      "text/plain": [
       "[<matplotlib.lines.Line2D at 0x112821ac8>]"
      ]
     },
     "execution_count": 14,
     "metadata": {},
     "output_type": "execute_result"
    },
    {
     "data": {
      "image/png": "[encoded data removed]",
      "text/plain": [
       "<Figure size 432x288 with 1 Axes>"
      ]
     },
     "metadata": {
      "needs_background": "light"
     },
     "output_type": "display_data"
    }
   ],
   "source": [
    "plt.figure(0)\n",
    "plt.plot(t,E_all)"
   ]
  },
  {
   "cell_type": "code",
   "execution_count": 15,
   "metadata": {},
   "outputs": [
    {
     "data": {
      "text/plain": [
       "[<matplotlib.lines.Line2D at 0x112895e10>]"
      ]
     },
     "execution_count": 15,
     "metadata": {},
     "output_type": "execute_result"
    },
    {
     "data": {
      "image/png": "[encoded data removed]",
      "text/plain": [
       "<Figure size 432x288 with 1 Axes>"
      ]
     },
     "metadata": {
      "needs_background": "light"
     },
     "output_type": "display_data"
    }
   ],
   "source": [
    "plt.figure(0)\n",
    "plt.plot(t,param_1_all[:,0])"
   ]
  },
  {
   "cell_type": "code",
   "execution_count": 16,
   "metadata": {},
   "outputs": [
    {
     "data": {
      "text/plain": [
       "[<matplotlib.lines.Line2D at 0x112901198>]"
      ]
     },
     "execution_count": 16,
     "metadata": {},
     "output_type": "execute_result"
    },
    {
     "data": {
      "image/png": "[encoded data removed]",
      "text/plain": [
       "<Figure size 432x288 with 1 Axes>"
      ]
     },
     "metadata": {
      "needs_background": "light"
     },
     "output_type": "display_data"
    }
   ],
   "source": [
    "plt.figure(0)\n",
    "plt.plot(t,param_1_all[:,1])"
   ]
  },
  {
   "cell_type": "code",
   "execution_count": 17,
   "metadata": {},
   "outputs": [
    {
     "data": {
      "text/plain": [
       "[<matplotlib.lines.Line2D at 0x112950ef0>]"
      ]
     },
     "execution_count": 17,
     "metadata": {},
     "output_type": "execute_result"
    },
    {
     "data": {
      "image/png": "[encoded data removed]",
      "text/plain": [
       "<Figure size 432x288 with 1 Axes>"
      ]
     },
     "metadata": {
      "needs_background": "light"
     },
     "output_type": "display_data"
    }
   ],
   "source": [
    "plt.figure(0)\n",
    "plt.plot(t,param_2_all[:,0])"
   ]
  },
  {
   "cell_type": "code",
   "execution_count": 18,
   "metadata": {},
   "outputs": [
    {
     "data": {
      "text/plain": [
       "[<matplotlib.lines.Line2D at 0x1129b4198>]"
      ]
     },
     "execution_count": 18,
     "metadata": {},
     "output_type": "execute_result"
    },
    {
     "data": {
      "image/png": "[encoded data removed]",
      "text/plain": [
       "<Figure size 432x288 with 1 Axes>"
      ]
     },
     "metadata": {
      "needs_background": "light"
     },
     "output_type": "display_data"
    }
   ],
   "source": [
    "plt.figure(0)\n",
    "plt.plot(t,param_2_all[:,1])"
   ]
  },
  {
   "cell_type": "code",
   "execution_count": 19,
   "metadata": {},
   "outputs": [
    {
     "data": {
      "text/plain": [
       "[<matplotlib.lines.Line2D at 0x112a0d828>]"
      ]
     },
     "execution_count": 19,
     "metadata": {},
     "output_type": "execute_result"
    },
    {
     "data": {
      "image/png": "[encoded data removed]",
      "text/plain": [
       "<Figure size 432x288 with 1 Axes>"
      ]
     },
     "metadata": {
      "needs_background": "light"
     },
     "output_type": "display_data"
    }
   ],
   "source": [
    "plt.figure(0)\n",
    "plt.plot(t,param_3_all)"
   ]
  },
  {
   "cell_type": "code",
   "execution_count": 108,
   "metadata": {},
   "outputs": [],
   "source": [
    "Pd_Ep3 = Pd_EX3*(X_3_in[0]*(1-X_3_in[1]))"
   ]
  },
  {
   "cell_type": "code",
   "execution_count": 109,
   "metadata": {},
   "outputs": [],
   "source": [
    "Pd_X20p20 = X_2_in[0] - X_2_in[0]*X_2_in[2]\n",
    "Pd_X22p21 = X_2_in[1] - X_2_in[1]*X_2_in[3]\n",
    "Pd_X3in0p20 = (-1) * Pd_X20p20\n",
    "Pd_X3in1p21 = (-1) * Pd_X22p21\n",
    "Pd_X3p20 = (param_3+X_3_in[1]-param_3*X_3_in[1]) * Pd_X3in0p20\n",
    "Pd_X3p21 = (X_3_in[0] - param_3*X_3_in[0]) * Pd_X3in1p21\n",
    "Pd_Ep20 = Pd_EX3 * Pd_X3p20\n",
    "Pd_Ep21 = Pd_EX3 * Pd_X3p21"
   ]
  },
  {
   "cell_type": "code",
   "execution_count": 110,
   "metadata": {},
   "outputs": [],
   "source": [
    "Pd_X10p10 = X_in[0] - X_in[0]*X_in[2]\n",
    "Pd_X2in0p10 = (-1)*Pd_X10p10\n",
    "Pd_X2in1p10 = (-1)*Pd_X10p10\n",
    "Pd_X20p10 = (param_2[0] + X_2_in[2] - param_2[0]*X_2_in[2]) * Pd_X2in0p10\n",
    "Pd_X22p10 = (param_2[1] + X_2_in[3] - param_2[1]*X_2_in[3]) * Pd_X2in1p10\n",
    "Pd_X3in0p10 = (-1)*Pd_X20p10\n",
    "Pd_X3in1p10 = (-1)*Pd_X22p10\n",
    "Pd_X3p10 = (param_3+X_3_in[1]-param_3*X_3_in[1])*Pd_X3in0p10 + (X_3_in[0]-param_3*X_3_in[0])*Pd_X3in1p10\n",
    "Pd_Ep10 = Pd_EX3 * Pd_X3p10"
   ]
  },
  {
   "cell_type": "code",
   "execution_count": 111,
   "metadata": {},
   "outputs": [],
   "source": [
    "Pd_X12p11 = X_in[1] - X_in[1]*X_in[3]\n",
    "Pd_X13p11 = X_in[3] - X_in[1]\n",
    "Pd_X2in2p11 = Pd_X12p11\n",
    "Pd_X2in3p11 = Pd_X13p11\n",
    "Pd_X20p11 = (X_2_in[0]-param_2[0]*X_2_in[0]) * Pd_X2in2p11\n",
    "Pd_X22p11 = (X_2_in[1]-param_2[1]*X_2_in[1]) * Pd_X2in3p11\n",
    "Pd_X3in0p11 = (-1)*Pd_X20p11\n",
    "Pd_X3in1p11 = (-1)*Pd_X22p11\n",
    "Pd_X3p11 = (param_3+X_3_in[1]-param_3*X_3_in[1])*Pd_X3in0p11 + (X_3_in[0]-param_3*X_3_in[0])*Pd_X3in1p11\n",
    "Pd_Ep11 = Pd_EX3 * Pd_X3p11"
   ]
  },
  {
   "cell_type": "code",
   "execution_count": 112,
   "metadata": {},
   "outputs": [],
   "source": [
    "param_1[0] = param_1[0] - 0.1*Pd_Ep10\n",
    "param_1[1] = param_1[1] - 0.1*Pd_Ep11\n",
    "param_2[0] = param_2[0] - 0.1*Pd_Ep20\n",
    "param_2[1] = param_2[1] - 0.1*Pd_Ep21\n",
    "param_3 = param_3 - 0.1*Pd_Ep3\n",
    "if param_1[0]>1.0 or param_1[0]<0.0:\n",
    "    param_1[0] = param_1[0] + 0.1*Pd_Ep10\n",
    "if param_1[1]>1.0 or param_1[1]<0.0:\n",
    "    param_1[1] = param_1[1] + 0.1*Pd_Ep11\n",
    "if param_2[0]>1.0 or param_2[0]<0.0:\n",
    "    param_2[0] = param_2[0] + 0.1*Pd_Ep20\n",
    "if param_2[1]>1.0 or param_2[1]<0.0:\n",
    "    param_2[1] = param_2[1] + 0.1*Pd_Ep21\n",
    "if param_3>1.0 or param_3<0.0:\n",
    "    param_3 = param_3 + 0.1*Pd_Ep3"
   ]
  },
  {
   "cell_type": "code",
   "execution_count": 113,
   "metadata": {},
   "outputs": [
    {
     "data": {
      "text/plain": [
       "array([0.16717833, 0.71007286])"
      ]
     },
     "execution_count": 113,
     "metadata": {},
     "output_type": "execute_result"
    }
   ],
   "source": [
    "param_1"
   ]
  },
  {
   "cell_type": "code",
   "execution_count": 114,
   "metadata": {},
   "outputs": [
    {
     "data": {
      "text/plain": [
       "array([0.50762511, 0.29778173])"
      ]
     },
     "execution_count": 114,
     "metadata": {},
     "output_type": "execute_result"
    }
   ],
   "source": [
    "param_2"
   ]
  },
  {
   "cell_type": "code",
   "execution_count": 115,
   "metadata": {},
   "outputs": [
    {
     "data": {
      "text/plain": [
       "0.05043265740167964"
      ]
     },
     "execution_count": 115,
     "metadata": {},
     "output_type": "execute_result"
    }
   ],
   "source": [
    "param_3"
   ]
  },
  {
   "cell_type": "code",
   "execution_count": null,
   "metadata": {},
   "outputs": [],
   "source": []
  }
 ],
 "metadata": {
  "kernelspec": {
   "display_name": "Python 3",
   "language": "python",
   "name": "python3"
  },
  "language_info": {
   "codemirror_mode": {
    "name": "ipython",
    "version": 3
   },
   "file_extension": ".py",
   "mimetype": "text/x-python",
   "name": "python",
   "nbconvert_exporter": "python",
   "pygments_lexer": "ipython3",
   "version": "3.7.3"
  }
 },
 "nbformat": 4,
 "nbformat_minor": 2
}
