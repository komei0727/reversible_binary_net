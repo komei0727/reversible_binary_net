{
 "cells": [
  {
   "cell_type": "code",
   "execution_count": 1,
   "metadata": {},
   "outputs": [],
   "source": [
    "import numpy as np\n",
    "import random"
   ]
  },
  {
   "cell_type": "code",
   "execution_count": 2,
   "metadata": {},
   "outputs": [],
   "source": [
    "class Layer(object):\n",
    "    def __init__(self, lr=0.1):\n",
    "        self.params = {}\n",
    "        self.grads = {}\n",
    "        self.lr = lr\n",
    "        \n",
    "    def update(self):\n",
    "        for k in self.params.keys():\n",
    "            self.params[k] = self.params[k] - self.lr * self.grads[k]\n",
    "            for i in range(len(self.params[k])):\n",
    "                if self.params[k][i] >1.0 or self.params[k][i] < 0.0:\n",
    "                    self.params[k][i] = self.params[k][i] + self.lr*self.grads[k][i]\n",
    "            \n",
    "    def zerograd(self):\n",
    "        for k in self.params.keys():\n",
    "            self.grads[k] = np.zeros(shape=self.params[k].shape, dtype=self.params[k].dtype)\n",
    "            "
   ]
  },
  {
   "cell_type": "code",
   "execution_count": 3,
   "metadata": {},
   "outputs": [],
   "source": [
    "class Sequential:\n",
    "    def __init__(self, layers=[]):\n",
    "        self.layers = layers\n",
    "        \n",
    "    def addlayer(self, layer):\n",
    "        self.layers.append(layer)\n",
    "        \n",
    "    def forward(self, x):\n",
    "        for l in self.layers:\n",
    "            x = l.forward(x)\n",
    "        return x\n",
    "    \n",
    "    def backward(self, y):\n",
    "        for l in reversed(self.layers):\n",
    "            y = l.backward(y)\n",
    "        return y\n",
    "    \n",
    "    def update(self):\n",
    "        for l in self.layers:\n",
    "            l.update()\n",
    "            \n",
    "    def zerograd(self):\n",
    "        for l in self.layers:\n",
    "            l.zerograd()\n",
    "            \n",
    "    def print_param(self):\n",
    "        for l in self.layers:\n",
    "            l.print_param()\n",
    "            \n",
    "    def save_param(self):\n",
    "        for l in self.layers:\n",
    "            l.save_param()\n",
    "        "
   ]
  },
  {
   "cell_type": "code",
   "execution_count": 4,
   "metadata": {},
   "outputs": [],
   "source": [
    "class ANDLayer(Layer):\n",
    "    def __init__(self, input_dim, output_dim):\n",
    "        super(ANDLayer, self).__init__()\n",
    "        \n",
    "        self.params['p'] = np.random.rand(int(output_dim/2))\n",
    "        self.shuffle = random.sample(range(input_dim*3), k=output_dim)\n",
    "        self.x_mid = np.zeros(input_dim*3)\n",
    "        self.x_out = np.zeros(output_dim)\n",
    "        self.grads['p'] = np.zeros(int(output_dim/2))\n",
    "        self.grads['X'] = np.zeros(input_dim)\n",
    "        #print(self.params['p'])\n",
    "        #print(self.shuffle)\n",
    "        \n",
    "    def forward(self, x):\n",
    "        self.x = x\n",
    "        for i in range(len(x)):\n",
    "            self.x_mid[i*3] = x[i]\n",
    "            self.x_mid[i*3+1] = x[i]\n",
    "            self.x_mid[i*3+2] = 1 - x[i]\n",
    "            \n",
    "        for i in range(int(len(self.x_out)/2)):\n",
    "            self.x_out[i*2] = self.params['p'][i]*self.x_mid[self.shuffle[i*2]] + self.x_mid[self.shuffle[i*2]]*self.x_mid[self.shuffle[i*2+1]] - self.params['p'][i]*self.x_mid[self.shuffle[i*2]]*self.x_mid[self.shuffle[i*2+1]]\n",
    "            self.x_out[i*2+1] = (1-self.params['p'][i])*self.x_mid[self.shuffle[i*2]] + self.params['p'][i]*self.x_mid[self.shuffle[i*2+1]]\n",
    "            \n",
    "        #print(self.x_out)\n",
    "            \n",
    "        return self.x_out\n",
    "    \n",
    "    def backward(self, y):\n",
    "        for i in range(int(len(self.x_out)/2)):\n",
    "            self.grads['p'][i] = y[i*2]*(self.x_mid[self.shuffle[i*2]]*(1-self.x_mid[self.shuffle[i*2+1]])) + y[i*2+1]*(self.x_mid[self.shuffle[i*2+1]]-self.x_mid[self.shuffle[i*2]])\n",
    "            \n",
    "        #print(self.grads['p'])\n",
    "        grad_Xmid = np.zeros(len(self.x_mid))\n",
    "        \n",
    "        for i in range(int(len(self.x_out)/2)):\n",
    "            grad_Xmid[self.shuffle[i*2]] = y[i*2]*(self.params['p'][i]+self.x_mid[self.shuffle[i*2+1]]-self.params['p'][i]*self.x_mid[self.shuffle[i*2+1]]) + y[i*2+1]*(1-self.params['p'][i])\n",
    "            grad_Xmid[self.shuffle[i*2+1]] = y[i*2]*(self.x_mid[self.shuffle[i*2]]-self.params['p'][i]*self.x_mid[self.shuffle[i*2]]) + y[i*2+1]*self.params['p'][i]\n",
    "            \n",
    "        for i in range(len(self.x)):\n",
    "            self.grads['X'][i] = grad_Xmid[i*3] + grad_Xmid[i*3+1] - grad_Xmid[i*3+2]\n",
    "            \n",
    "        #print(self.grads['X'])\n",
    "        return self.grads['X']\n",
    "    \n",
    "    def print_param(self):\n",
    "        \n",
    "        print(self.shuffle)\n",
    "        print(self.params['p'])\n",
    "        print('---------------------------------------------------')\n",
    "        \n",
    "    def save_param(self):\n",
    "        shuffle_str = [str(n) for n in self.shuffle]\n",
    "        param_str = [str(n) for n in self.params['p']]\n",
    "        with open(path_w, mode='a') as f:\n",
    "            f.write('[' + ','.join(shuffle_str) + ']\\n')\n",
    "            f.write('[' + ','.join(param_str) + ']\\n')\n",
    "            f.write('----------------------------------------------------------------\\n')\n",
    "            "
   ]
  },
  {
   "cell_type": "code",
   "execution_count": 5,
   "metadata": {},
   "outputs": [],
   "source": [
    "class Classifier:\n",
    "    def __init__(self, model):\n",
    "        self.model = model\n",
    "        \n",
    "    def update(self, x, t):\n",
    "        self.model.zerograd()\n",
    "        y = self.model.forward(x)\n",
    "        loss = (y[0] - t)**2 /2\n",
    "        #print(loss)\n",
    "        dout = np.zeros(len(y))\n",
    "        dout[0] = y[0] - t\n",
    "        dout = self.model.backward(dout)\n",
    "        self.model.update()\n",
    "        \n",
    "    def test(self, x):\n",
    "        y = self.model.forward(x)\n",
    "        return y[0]\n",
    "    \n",
    "    def print_param(self):\n",
    "        self.model.print_param()\n",
    "        \n",
    "    def save_param(self):\n",
    "        self.model.save_param()\n",
    "        with open(path_w, mode='a') as f:\n",
    "            f.write('\\n')"
   ]
  },
  {
   "cell_type": "code",
   "execution_count": 6,
   "metadata": {},
   "outputs": [],
   "source": [
    "X_input = np.array([[0, 0], [0, 1], [1, 0], [1, 1]])\n",
    "X_label = np.array([0,1,1,0])\n",
    "#X_input = np.array([[0,0,0],[0,0,1],[0,1,0],[0,1,1],[1,0,0],[1,0,1],[1,1,0],[1,1,1]])\n",
    "#X_label = np.array([0,1,1,0,1,0,0,1])"
   ]
  },
  {
   "cell_type": "code",
   "execution_count": 12,
   "metadata": {},
   "outputs": [],
   "source": [
    "model = Sequential(layers=[])\n",
    "model.addlayer(ANDLayer(2,6))\n",
    "model.addlayer(ANDLayer(6,16))\n",
    "model.addlayer(ANDLayer(24,24))\n",
    "model.addlayer(ANDLayer(24,24))\n",
    "model.addlayer(ANDLayer(24,24))\n",
    "model.addlayer(ANDLayer(24,24))\n",
    "model.addlayer(ANDLayer(24,24))\n",
    "classifier = Classifier(model)"
   ]
  },
  {
   "cell_type": "code",
   "execution_count": 13,
   "metadata": {},
   "outputs": [
    {
     "name": "stdout",
     "output_type": "stream",
     "text": [
      "入力値:[0, 0] 予測値:0.0007748004947656673 解:0\n",
      "入力値:[0, 1] 予測値:0.9987048598608093 解:1\n",
      "入力値:[1, 0] 予測値:0.9998142906155979 解:1\n",
      "入力値:[1, 1] 予測値:0.03173329894312579 解:0\n",
      "loss:0.00012616430669700948\n"
     ]
    }
   ],
   "source": [
    "for i in range(1000):\n",
    "    number = random.randint(0,len(X_label)-1)\n",
    "    x = X_input[number]\n",
    "    t = X_label[number]\n",
    "    classifier.update(x, t)\n",
    "\n",
    "loss = 0\n",
    "for i in range(len(X_label)):\n",
    "    number = i\n",
    "    x = X_input[i]\n",
    "    t = X_label[i]\n",
    "    y = classifier.test(x)\n",
    "    loss = loss + ((y - t)**2 /2)\n",
    "    print('入力値:[{}, {}] 予測値:{} 解:{}'.format(x[0], x[1], y, t))\n",
    "loss = loss / 4\n",
    "print('loss:{}'.format(loss))\n",
    "if loss < 0.001:\n",
    "    classifier.save_param()"
   ]
  },
  {
   "cell_type": "code",
   "execution_count": 25,
   "metadata": {},
   "outputs": [
    {
     "name": "stdout",
     "output_type": "stream",
     "text": [
      "[5, 4, 0, 3, 1, 2]\n",
      "[4.40227563e-08 1.59441788e-07 7.65771645e-08]\n",
      "---------------------------------------------------\n",
      "[16, 9, 17, 15, 7, 0, 4, 11, 6, 1, 5, 14, 12, 13, 2, 3]\n",
      "[8.80026927e-01 2.31041764e-02 9.99904855e-01 4.09747456e-01\n",
      " 1.00000000e+00 1.67013078e-07 6.98029714e-01 3.05826918e-01]\n",
      "---------------------------------------------------\n",
      "[56, 13, 69, 34, 9, 12, 2, 14, 24, 67, 62, 63, 17, 50, 60, 23, 16, 25, 39, 35, 15, 11, 6, 0]\n",
      "[9.99997765e-01 9.99999936e-01 6.20384410e-01 1.50452255e-08\n",
      " 1.00000000e+00 4.64619401e-02 5.27641402e-01 6.00028877e-02\n",
      " 7.35680628e-01 3.02507128e-01 9.99999527e-01 2.20023890e-01]\n",
      "---------------------------------------------------\n",
      "[69, 37, 15, 12, 24, 55, 8, 44, 6, 58, 4, 64, 17, 40, 30, 46, 66, 67, 54, 22, 70, 60, 21, 11]\n",
      "[5.26790407e-02 8.27009389e-01 7.12621679e-12 7.33014981e-01\n",
      " 5.50922842e-01 8.15958939e-01 2.88625347e-01 3.56333286e-01\n",
      " 6.71440345e-01 7.50375288e-01 5.17603043e-01 5.60062279e-08]\n",
      "---------------------------------------------------\n",
      "[62, 14, 16, 35, 43, 20, 55, 71, 31, 21, 68, 61, 26, 37, 17, 4, 64, 24, 12, 39, 0, 46, 57, 41]\n",
      "[9.65623869e-01 7.24628462e-01 3.12988391e-01 3.79063528e-01\n",
      " 4.02793352e-06 9.99997458e-01 9.41871329e-01 9.45564979e-01\n",
      " 9.95986797e-01 6.81428846e-01 2.15962441e-01 8.68138056e-01]\n",
      "---------------------------------------------------\n",
      "[28, 19, 54, 62, 31, 67, 48, 1, 17, 35, 9, 53, 20, 12, 30, 43, 38, 7, 10, 57, 71, 32, 61, 29]\n",
      "[3.91600571e-01 5.23873890e-01 7.24241279e-01 5.50314470e-01\n",
      " 1.38586332e-01 6.55165601e-01 5.77166285e-01 2.20655313e-05\n",
      " 6.56833762e-01 2.37941846e-01 9.71614155e-01 9.99999907e-01]\n",
      "---------------------------------------------------\n",
      "[45, 70, 36, 27, 54, 7, 43, 48, 23, 14, 58, 46, 29, 41, 8, 31, 42, 60, 39, 11, 21, 50, 5, 19]\n",
      "[1.94030292e-04 1.99721027e-01 3.91853140e-01 4.66584092e-01\n",
      " 6.19289059e-01 6.59623956e-01 2.88317532e-01 4.22195739e-01\n",
      " 3.03885745e-01 4.35066941e-01 6.77768916e-01 7.90319930e-01]\n",
      "---------------------------------------------------\n"
     ]
    }
   ],
   "source": [
    "classifier.print_param()"
   ]
  },
  {
   "cell_type": "code",
   "execution_count": 8,
   "metadata": {},
   "outputs": [],
   "source": [
    "path_w = 'result/param.txt'"
   ]
  },
  {
   "cell_type": "code",
   "execution_count": 22,
   "metadata": {},
   "outputs": [],
   "source": [
    "with open(path_w, mode='a') as f:\n",
    "    f.write('Hello\\n')"
   ]
  },
  {
   "cell_type": "code",
   "execution_count": 27,
   "metadata": {},
   "outputs": [],
   "source": [
    "p = np.array([3.53222250e-11, 1.12799384e-01, 2.40041732e-01, 3.03925897e-01,\n",
    " 1.00000000e+00, 1.32535697e-08, 1.04512027e-03, 6.07846886e-01])"
   ]
  },
  {
   "cell_type": "code",
   "execution_count": 28,
   "metadata": {},
   "outputs": [],
   "source": [
    "p_str = [str(n) for n in p]"
   ]
  },
  {
   "cell_type": "code",
   "execution_count": 29,
   "metadata": {},
   "outputs": [
    {
     "data": {
      "text/plain": [
       "['3.5322225e-11',\n",
       " '0.112799384',\n",
       " '0.240041732',\n",
       " '0.303925897',\n",
       " '1.0',\n",
       " '1.32535697e-08',\n",
       " '0.00104512027',\n",
       " '0.607846886']"
      ]
     },
     "execution_count": 29,
     "metadata": {},
     "output_type": "execute_result"
    }
   ],
   "source": [
    "p_str"
   ]
  },
  {
   "cell_type": "code",
   "execution_count": 31,
   "metadata": {},
   "outputs": [],
   "source": [
    "with open(path_w, mode='a') as f:\n",
    "    f.write('[' + ','.join(p_str) + ']\\n')"
   ]
  },
  {
   "cell_type": "code",
   "execution_count": 7,
   "metadata": {},
   "outputs": [],
   "source": [
    "model.zerograd()"
   ]
  },
  {
   "cell_type": "code",
   "execution_count": 8,
   "metadata": {},
   "outputs": [
    {
     "name": "stdout",
     "output_type": "stream",
     "text": [
      "[0.         0.63342236 0.15959698 0.84040302 0.         0.12766872]\n",
      "[0.62380404 0.37619596 0.11824495 0.51076068 0.         0.03227606]\n"
     ]
    }
   ],
   "source": [
    "y = model.forward(x)"
   ]
  },
  {
   "cell_type": "code",
   "execution_count": 9,
   "metadata": {},
   "outputs": [
    {
     "data": {
      "text/plain": [
       "array([0.62380404, 0.37619596, 0.11824495, 0.51076068, 0.        ,\n",
       "       0.03227606])"
      ]
     },
     "execution_count": 9,
     "metadata": {},
     "output_type": "execute_result"
    }
   ],
   "source": [
    "y"
   ]
  },
  {
   "cell_type": "code",
   "execution_count": 10,
   "metadata": {},
   "outputs": [],
   "source": [
    "loss = (y[0] - 1)**2 /2"
   ]
  },
  {
   "cell_type": "code",
   "execution_count": 11,
   "metadata": {},
   "outputs": [],
   "source": [
    "dout = np.zeros(6)"
   ]
  },
  {
   "cell_type": "code",
   "execution_count": 12,
   "metadata": {},
   "outputs": [],
   "source": [
    "dout[0] = y[0] - 1"
   ]
  },
  {
   "cell_type": "code",
   "execution_count": 13,
   "metadata": {},
   "outputs": [
    {
     "name": "stdout",
     "output_type": "stream",
     "text": [
      "[-0.37619596  0.          0.        ]\n",
      "[ 0.23467256  0.          0.          0.         -0.1415234   0.        ]\n",
      "[0. 0. 0.]\n",
      "[0.09314916 0.        ]\n"
     ]
    }
   ],
   "source": [
    "dout = model.backward(dout)"
   ]
  },
  {
   "cell_type": "code",
   "execution_count": 14,
   "metadata": {},
   "outputs": [
    {
     "data": {
      "text/plain": [
       "array([0.09314916, 0.        ])"
      ]
     },
     "execution_count": 14,
     "metadata": {},
     "output_type": "execute_result"
    }
   ],
   "source": [
    "dout"
   ]
  },
  {
   "cell_type": "code",
   "execution_count": 4,
   "metadata": {},
   "outputs": [],
   "source": [
    "x = np.array([0.4, 0.6, 0.7])"
   ]
  },
  {
   "cell_type": "code",
   "execution_count": 6,
   "metadata": {},
   "outputs": [],
   "source": [
    "x_mid = np.array([x[0], x[0], 1-x[0], x[1], x[1], 1-x[1], x[2], x[2], 1-x[2]])"
   ]
  },
  {
   "cell_type": "code",
   "execution_count": 7,
   "metadata": {},
   "outputs": [
    {
     "data": {
      "text/plain": [
       "array([0.4, 0.4, 0.6, 0.6, 0.6, 0.4, 0.7, 0.7, 0.3])"
      ]
     },
     "execution_count": 7,
     "metadata": {},
     "output_type": "execute_result"
    }
   ],
   "source": [
    "x_mid"
   ]
  },
  {
   "cell_type": "code",
   "execution_count": 12,
   "metadata": {},
   "outputs": [
    {
     "data": {
      "text/plain": [
       "[5, 4, 6, 8, 1, 0, 2, 7]"
      ]
     },
     "execution_count": 12,
     "metadata": {},
     "output_type": "execute_result"
    }
   ],
   "source": [
    "random.sample(range(9), k=8)"
   ]
  },
  {
   "cell_type": "code",
   "execution_count": null,
   "metadata": {},
   "outputs": [],
   "source": []
  }
 ],
 "metadata": {
  "kernelspec": {
   "display_name": "Python 3",
   "language": "python",
   "name": "python3"
  },
  "language_info": {
   "codemirror_mode": {
    "name": "ipython",
    "version": 3
   },
   "file_extension": ".py",
   "mimetype": "text/x-python",
   "name": "python",
   "nbconvert_exporter": "python",
   "pygments_lexer": "ipython3",
   "version": "3.7.3"
  }
 },
 "nbformat": 4,
 "nbformat_minor": 2
}
