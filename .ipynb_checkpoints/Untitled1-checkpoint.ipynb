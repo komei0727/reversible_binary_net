{
 "cells": [
  {
   "cell_type": "code",
   "execution_count": 1,
   "metadata": {},
   "outputs": [],
   "source": [
    "import numpy as np\n",
    "import random"
   ]
  },
  {
   "cell_type": "code",
   "execution_count": 2,
   "metadata": {},
   "outputs": [],
   "source": [
    "X = np.zeros([5,9])"
   ]
  },
  {
   "cell_type": "code",
   "execution_count": 3,
   "metadata": {},
   "outputs": [],
   "source": [
    "X_param = np.random.rand(7)"
   ]
  },
  {
   "cell_type": "code",
   "execution_count": 4,
   "metadata": {},
   "outputs": [
    {
     "data": {
      "text/plain": [
       "array([0.18430642, 0.41168827, 0.11459126, 0.03066448, 0.97110573,\n",
       "       0.32554055, 0.41218888])"
      ]
     },
     "execution_count": 4,
     "metadata": {},
     "output_type": "execute_result"
    }
   ],
   "source": [
    "X_param"
   ]
  },
  {
   "cell_type": "code",
   "execution_count": 5,
   "metadata": {},
   "outputs": [],
   "source": [
    "X_input = np.array([0,0])"
   ]
  },
  {
   "cell_type": "code",
   "execution_count": 6,
   "metadata": {},
   "outputs": [
    {
     "data": {
      "text/plain": [
       "array([0, 0])"
      ]
     },
     "execution_count": 6,
     "metadata": {},
     "output_type": "execute_result"
    }
   ],
   "source": [
    "X_input"
   ]
  },
  {
   "cell_type": "code",
   "execution_count": 7,
   "metadata": {},
   "outputs": [],
   "source": [
    "X_in = np.concatenate([X_input,X_param])"
   ]
  },
  {
   "cell_type": "code",
   "execution_count": 8,
   "metadata": {},
   "outputs": [],
   "source": [
    "X_E5 = np.zeros(9)"
   ]
  },
  {
   "cell_type": "code",
   "execution_count": 9,
   "metadata": {},
   "outputs": [],
   "source": [
    "X_54 = np.zeros([9,9])"
   ]
  },
  {
   "cell_type": "code",
   "execution_count": 10,
   "metadata": {},
   "outputs": [],
   "source": [
    "X_43 = np.zeros([9,9])"
   ]
  },
  {
   "cell_type": "code",
   "execution_count": 11,
   "metadata": {},
   "outputs": [],
   "source": [
    "X_32 = np.zeros([9,9])"
   ]
  },
  {
   "cell_type": "code",
   "execution_count": 12,
   "metadata": {},
   "outputs": [],
   "source": [
    "X_21 = np.zeros([9,9])"
   ]
  },
  {
   "cell_type": "code",
   "execution_count": 31,
   "metadata": {},
   "outputs": [],
   "source": [
    "X_E0 = np.zeros(9)"
   ]
  },
  {
   "cell_type": "code",
   "execution_count": 13,
   "metadata": {},
   "outputs": [],
   "source": [
    "X_10 = np.zeros([9,9])\n",
    "X_20 = np.zeros([9,9])\n",
    "X_30 = np.zeros([9,9])\n",
    "X_40 = np.zeros([9,9])\n",
    "X_50 = np.zeros([9,9])"
   ]
  },
  {
   "cell_type": "code",
   "execution_count": 14,
   "metadata": {},
   "outputs": [],
   "source": [
    "random_shuffle = [random.sample(range(9), k=9), random.sample(range(9), k=9), random.sample(range(9), k=9), random.sample(range(9), k=9), random.sample(range(9), k=9)]"
   ]
  },
  {
   "cell_type": "code",
   "execution_count": 15,
   "metadata": {
    "scrolled": true
   },
   "outputs": [
    {
     "data": {
      "text/plain": [
       "[[3, 2, 5, 0, 8, 6, 4, 7, 1],\n",
       " [5, 7, 6, 4, 8, 2, 1, 3, 0],\n",
       " [2, 5, 3, 0, 1, 8, 4, 6, 7],\n",
       " [1, 6, 5, 7, 3, 4, 0, 2, 8],\n",
       " [6, 5, 7, 2, 0, 4, 1, 8, 3]]"
      ]
     },
     "execution_count": 15,
     "metadata": {},
     "output_type": "execute_result"
    }
   ],
   "source": [
    "random_shuffle"
   ]
  },
  {
   "cell_type": "code",
   "execution_count": 16,
   "metadata": {},
   "outputs": [],
   "source": [
    "X_save = np.zeros(9)"
   ]
  },
  {
   "cell_type": "code",
   "execution_count": 17,
   "metadata": {},
   "outputs": [],
   "source": [
    "X_save = X_in[random_shuffle[0]]"
   ]
  },
  {
   "cell_type": "code",
   "execution_count": 18,
   "metadata": {},
   "outputs": [
    {
     "data": {
      "text/plain": [
       "array([0.41168827, 0.18430642, 0.03066448, 0.        , 0.41218888,\n",
       "       0.97110573, 0.11459126, 0.32554055, 0.        ])"
      ]
     },
     "execution_count": 18,
     "metadata": {},
     "output_type": "execute_result"
    }
   ],
   "source": [
    "X_save"
   ]
  },
  {
   "cell_type": "code",
   "execution_count": 19,
   "metadata": {},
   "outputs": [],
   "source": [
    "X[0][0] = X_save[0]\n",
    "X[0][1] = (1-X_save[0])*X_save[1] + X_save[0]*X_save[2]\n",
    "X[0][2] = (1-X_save[0])*X_save[2] + X_save[0]*X_save[1]\n",
    "X[0][3] = X_save[3]\n",
    "X[0][4] = (1-X_save[3])*X_save[4] + X_save[3]*X_save[5]\n",
    "X[0][5] = (1-X_save[3])*X_save[5] + X_save[3]*X_save[4]\n",
    "X[0][6] = X_save[6]\n",
    "X[0][7] = (1-X_save[6])*X_save[7] + X_save[6]*X_save[8]\n",
    "X[0][8] = (1-X_save[6])*X_save[8] + X_save[6]*X_save[7]"
   ]
  },
  {
   "cell_type": "code",
   "execution_count": 20,
   "metadata": {},
   "outputs": [
    {
     "data": {
      "text/plain": [
       "array([0.        , 0.87024614, 0.71267659, 0.57752209, 0.59208518,\n",
       "       0.65754886, 0.1355406 , 0.79707817, 0.12497574])"
      ]
     },
     "execution_count": 20,
     "metadata": {},
     "output_type": "execute_result"
    }
   ],
   "source": [
    "X[0]"
   ]
  },
  {
   "cell_type": "code",
   "execution_count": 21,
   "metadata": {},
   "outputs": [
    {
     "data": {
      "text/plain": [
       "array([0.65754886, 0.57752209, 0.71267659, 0.        , 0.1355406 ,\n",
       "       0.79707817, 0.12497574, 0.87024614, 0.59208518])"
      ]
     },
     "execution_count": 21,
     "metadata": {},
     "output_type": "execute_result"
    }
   ],
   "source": [
    "X[0][random_shuffle[1]]"
   ]
  },
  {
   "cell_type": "code",
   "execution_count": 20,
   "metadata": {},
   "outputs": [],
   "source": [
    "for i in range(5):\n",
    "    X[i][0] = X_save[0]\n",
    "    X[i][1] = (1-X_save[0])*X_save[1] + X_save[0]*X_save[2]\n",
    "    X[i][2] = (1-X_save[0])*X_save[2] + X_save[0]*X_save[1]\n",
    "    X[i][3] = X_save[3]\n",
    "    X[i][4] = (1-X_save[3])*X_save[4] + X_save[3]*X_save[5]\n",
    "    X[i][5] = (1-X_save[3])*X_save[5] + X_save[3]*X_save[4]\n",
    "    X[i][6] = X_save[6]\n",
    "    X[i][7] = (1-X_save[6])*X_save[7] + X_save[6]*X_save[8]\n",
    "    X[i][8] = (1-X_save[6])*X_save[8] + X_save[6]*X_save[7]\n",
    "    \n",
    "    if i != 4:\n",
    "        X_save = X[i][random_shuffle[i+1]]\n",
    "    \n",
    "    "
   ]
  },
  {
   "cell_type": "code",
   "execution_count": 21,
   "metadata": {},
   "outputs": [
    {
     "data": {
      "text/plain": [
       "array([[0.41168827, 0.12105384, 0.09391707, 0.        , 0.41218888,\n",
       "        0.97110573, 0.11459126, 0.28823644, 0.0373041 ],\n",
       "       [0.97110573, 0.11960861, 0.28321909, 0.41218888, 0.06063934,\n",
       "        0.07058183, 0.12105384, 0.04983645, 0.36185183],\n",
       "       [0.28321909, 0.16733147, 0.31543924, 0.97110573, 0.35485238,\n",
       "        0.12660805, 0.06063934, 0.11673526, 0.05415502],\n",
       "       [0.16733147, 0.07167798, 0.11556941, 0.11673526, 0.89916723,\n",
       "        0.42679088, 0.28321909, 0.24143856, 0.1281557 ],\n",
       "       [0.28321909, 0.37429557, 0.29393388, 0.11556941, 0.2519093 ,\n",
       "        0.8145894 , 0.07167798, 0.12733711, 0.11755386]])"
      ]
     },
     "execution_count": 21,
     "metadata": {},
     "output_type": "execute_result"
    }
   ],
   "source": [
    "X"
   ]
  },
  {
   "cell_type": "code",
   "execution_count": 22,
   "metadata": {},
   "outputs": [],
   "source": [
    "E = (X[4][6]-0)**2/2"
   ]
  },
  {
   "cell_type": "code",
   "execution_count": 23,
   "metadata": {},
   "outputs": [
    {
     "data": {
      "text/plain": [
       "0.0025688663413220873"
      ]
     },
     "execution_count": 23,
     "metadata": {},
     "output_type": "execute_result"
    }
   ],
   "source": [
    "E"
   ]
  },
  {
   "cell_type": "code",
   "execution_count": 24,
   "metadata": {},
   "outputs": [],
   "source": [
    "X_E5[6] = X[4][6]-0"
   ]
  },
  {
   "cell_type": "code",
   "execution_count": 25,
   "metadata": {},
   "outputs": [],
   "source": [
    "for i in range(3):\n",
    "    n = i*3\n",
    "    X_54[n][random_shuffle[4][n]] = 1\n",
    "    X_54[n+1][random_shuffle[4][n]] = X[3][random_shuffle[4][n+2]] - X[3][random_shuffle[4][n+1]]\n",
    "    X_54[n+1][random_shuffle[4][n+1]] = 1 - X[3][random_shuffle[4][n]]\n",
    "    X_54[n+1][random_shuffle[4][n+2]] = X[3][random_shuffle[4][n]]\n",
    "    X_54[n+2][random_shuffle[4][n]] = X[3][random_shuffle[4][n+1]] - X[3][random_shuffle[4][n+2]]\n",
    "    X_54[n+2][random_shuffle[4][n+1]] = X[3][random_shuffle[4][n]]\n",
    "    X_54[n+2][random_shuffle[4][n+2]] = 1 - X[3][random_shuffle[4][n]]\n",
    "    \n",
    "    X_43[n][random_shuffle[3][n]] = 1\n",
    "    X_43[n+1][random_shuffle[3][n]] = X[2][random_shuffle[3][n+2]] - X[2][random_shuffle[3][n+1]]\n",
    "    X_43[n+1][random_shuffle[3][n+1]] = 1 - X[2][random_shuffle[3][n]]\n",
    "    X_43[n+1][random_shuffle[3][n+2]] = X[2][random_shuffle[3][n]]\n",
    "    X_43[n+2][random_shuffle[3][n]] = X[2][random_shuffle[3][n+1]] - X[2][random_shuffle[3][n+2]]\n",
    "    X_43[n+2][random_shuffle[3][n+1]] = X[2][random_shuffle[3][n]]\n",
    "    X_43[n+2][random_shuffle[3][n+2]] = 1 - X[2][random_shuffle[3][n]]\n",
    "    \n",
    "    X_32[n][random_shuffle[2][n]] = 1\n",
    "    X_32[n+1][random_shuffle[2][n]] = X[1][random_shuffle[2][n+2]] - X[1][random_shuffle[2][n+1]]\n",
    "    X_32[n+1][random_shuffle[2][n+1]] = 1 - X[1][random_shuffle[2][n]]\n",
    "    X_32[n+1][random_shuffle[2][n+2]] = X[1][random_shuffle[2][n]]\n",
    "    X_32[n+2][random_shuffle[2][n]] = X[1][random_shuffle[2][n+1]] - X[1][random_shuffle[2][n+2]]\n",
    "    X_32[n+2][random_shuffle[2][n+1]] = X[1][random_shuffle[2][n]]\n",
    "    X_32[n+2][random_shuffle[2][n+2]] = 1 - X[1][random_shuffle[2][n]]\n",
    "    \n",
    "    X_21[n][random_shuffle[1][n]] = 1\n",
    "    X_21[n+1][random_shuffle[1][n]] = X[0][random_shuffle[1][n+2]] - X[0][random_shuffle[1][n+1]]\n",
    "    X_21[n+1][random_shuffle[1][n+1]] = 1 - X[0][random_shuffle[1][n]]\n",
    "    X_21[n+1][random_shuffle[1][n+2]] = X[0][random_shuffle[1][n]]\n",
    "    X_21[n+2][random_shuffle[1][n]] = X[0][random_shuffle[1][n+1]] - X[0][random_shuffle[1][n+2]]\n",
    "    X_21[n+2][random_shuffle[1][n+1]] = X[0][random_shuffle[1][n]]\n",
    "    X_21[n+2][random_shuffle[1][n+2]] = 1 - X[0][random_shuffle[1][n]]\n",
    "    \n",
    "    X_10[n][random_shuffle[0][n]] = 1\n",
    "    X_10[n+1][random_shuffle[0][n]] = X_in[random_shuffle[0][n+2]] - X_in[random_shuffle[0][n+1]]\n",
    "    X_10[n+1][random_shuffle[0][n+1]] = 1 - X_in[random_shuffle[0][n]]\n",
    "    X_10[n+1][random_shuffle[0][n+2]] = X_in[random_shuffle[0][n]]\n",
    "    X_10[n+2][random_shuffle[0][n]] = X_in[random_shuffle[0][n+1]] - X_in[random_shuffle[0][n+2]]\n",
    "    X_10[n+2][random_shuffle[0][n+1]] = X_in[random_shuffle[0][n]]\n",
    "    X_10[n+2][random_shuffle[0][n+2]] = 1 - X_in[random_shuffle[0][n]]"
   ]
  },
  {
   "cell_type": "code",
   "execution_count": 42,
   "metadata": {},
   "outputs": [
    {
     "data": {
      "text/plain": [
       "array([[ 0.        ,  0.        ,  0.        ,  1.        ,  0.        ,\n",
       "         0.        ,  0.        ,  0.        ,  0.        ],\n",
       "       [ 0.        ,  0.        ,  0.04824274,  0.71571601,  0.95175726,\n",
       "         0.        ,  0.        ,  0.        ,  0.        ],\n",
       "       [ 0.        ,  0.        ,  0.95175726, -0.71571601,  0.04824274,\n",
       "         0.        ,  0.        ,  0.        ,  0.        ],\n",
       "       [ 0.        ,  1.        ,  0.        ,  0.        ,  0.        ,\n",
       "         0.        ,  0.        ,  0.        ,  0.        ],\n",
       "       [ 0.        , -0.61875283,  0.        ,  0.        ,  0.        ,\n",
       "         0.        ,  0.        ,  0.        ,  1.        ],\n",
       "       [ 1.        ,  0.61875283,  0.        ,  0.        ,  0.        ,\n",
       "         0.        ,  0.        ,  0.        ,  0.        ],\n",
       "       [ 0.        ,  0.        ,  0.        ,  0.        ,  0.        ,\n",
       "         0.        ,  0.        ,  1.        ,  0.        ],\n",
       "       [ 0.        ,  0.        ,  0.        ,  0.        ,  0.        ,\n",
       "         0.23992902,  0.76007098, -0.42027301,  0.        ],\n",
       "       [ 0.        ,  0.        ,  0.        ,  0.        ,  0.        ,\n",
       "         0.76007098,  0.23992902,  0.42027301,  0.        ]])"
      ]
     },
     "execution_count": 42,
     "metadata": {},
     "output_type": "execute_result"
    }
   ],
   "source": [
    "X_10"
   ]
  },
  {
   "cell_type": "code",
   "execution_count": 26,
   "metadata": {},
   "outputs": [],
   "source": [
    "for i in range(9):\n",
    "    for j in range(9):\n",
    "        for k in range(9):\n",
    "            X_20[k][j] += X_21[k][i] * X_10[i][j]"
   ]
  },
  {
   "cell_type": "code",
   "execution_count": 27,
   "metadata": {},
   "outputs": [],
   "source": [
    "for i in range(9):\n",
    "    for j in range(9):\n",
    "        for k in range(9):\n",
    "            X_30[k][j] += X_32[k][i] * X_20[i][j]"
   ]
  },
  {
   "cell_type": "code",
   "execution_count": 28,
   "metadata": {},
   "outputs": [],
   "source": [
    "for i in range(9):\n",
    "    for j in range(9):\n",
    "        for k in range(9):\n",
    "            X_40[k][j] += X_43[k][i] * X_30[i][j]\n",
    "            "
   ]
  },
  {
   "cell_type": "code",
   "execution_count": 29,
   "metadata": {},
   "outputs": [],
   "source": [
    "for i in range(9):\n",
    "    for j in range(9):\n",
    "        for k in range(9):\n",
    "            X_50[k][j] += X_54[k][i] * X_40[i][j]"
   ]
  },
  {
   "cell_type": "code",
   "execution_count": 30,
   "metadata": {},
   "outputs": [
    {
     "data": {
      "text/plain": [
       "array([[-0.09705322,  0.11128023,  0.        ,  0.        , -0.28724002,\n",
       "         0.        ,  0.17364518,  0.8598255 ,  0.        ],\n",
       "       [ 0.14408245, -0.02893351,  0.13234477,  0.52424423,  0.11479708,\n",
       "         0.09957252,  0.17678564, -0.28117623,  0.14079835],\n",
       "       [ 0.37318448,  0.03443864,  0.12916588,  0.22671065,  0.0778325 ,\n",
       "         0.11631727,  0.06159381, -0.14537328,  0.36014101],\n",
       "       [ 0.19266421,  0.0700008 ,  0.01112508,  0.02899527,  0.80978711,\n",
       "         0.02014743, -0.34603255,  0.01034804, -0.00653352],\n",
       "       [ 0.17072707,  0.31885207,  0.11883547,  0.10116709,  0.59225858,\n",
       "         0.20470736, -0.09549717,  0.29764498,  0.21010392],\n",
       "       [-0.59514883,  0.00360806, -0.31500228,  0.15993724, -0.58255909,\n",
       "        -0.21005717,  1.06577294,  0.03297585,  0.0350207 ],\n",
       "       [ 0.07211825,  0.45366766,  0.15157003,  0.06155837,  0.31548111,\n",
       "         0.21745092, -0.0648385 ,  0.08185401,  0.06314649],\n",
       "       [ 0.64187384,  0.06099849,  0.23925553,  0.02853556, -0.02939322,\n",
       "         0.18452727,  0.02726324,  0.13676116,  0.18591201],\n",
       "       [ 0.09755177, -0.02391244,  0.53270552, -0.13114842, -0.01096406,\n",
       "         0.36733441,  0.0013074 ,  0.00713998,  0.01141104]])"
      ]
     },
     "execution_count": 30,
     "metadata": {},
     "output_type": "execute_result"
    }
   ],
   "source": [
    "X_50"
   ]
  },
  {
   "cell_type": "code",
   "execution_count": 32,
   "metadata": {},
   "outputs": [],
   "source": [
    "for i in range(9):\n",
    "    for j in range(9):\n",
    "        X_E0[j] += X_E5[i] * X_50[i][j]"
   ]
  },
  {
   "cell_type": "code",
   "execution_count": 33,
   "metadata": {},
   "outputs": [
    {
     "data": {
      "text/plain": [
       "array([ 0.00516929,  0.03251798,  0.01086423,  0.00441238,  0.02261305,\n",
       "        0.01558644, -0.00464749,  0.00586713,  0.00452621])"
      ]
     },
     "execution_count": 33,
     "metadata": {},
     "output_type": "execute_result"
    }
   ],
   "source": [
    "X_E0"
   ]
  },
  {
   "cell_type": "code",
   "execution_count": 36,
   "metadata": {},
   "outputs": [],
   "source": [
    "X_param = X_param - 0.1*X_E0[2:] "
   ]
  },
  {
   "cell_type": "code",
   "execution_count": 37,
   "metadata": {},
   "outputs": [
    {
     "data": {
      "text/plain": [
       "array([0.18322   , 0.41124703, 0.11232995, 0.02910584, 0.97157048,\n",
       "       0.32495383, 0.41173626])"
      ]
     },
     "execution_count": 37,
     "metadata": {},
     "output_type": "execute_result"
    }
   ],
   "source": [
    "X_param"
   ]
  },
  {
   "cell_type": "code",
   "execution_count": null,
   "metadata": {},
   "outputs": [],
   "source": []
  }
 ],
 "metadata": {
  "kernelspec": {
   "display_name": "Python 3",
   "language": "python",
   "name": "python3"
  },
  "language_info": {
   "codemirror_mode": {
    "name": "ipython",
    "version": 3
   },
   "file_extension": ".py",
   "mimetype": "text/x-python",
   "name": "python",
   "nbconvert_exporter": "python",
   "pygments_lexer": "ipython3",
   "version": "3.7.6"
  }
 },
 "nbformat": 4,
 "nbformat_minor": 4
}
