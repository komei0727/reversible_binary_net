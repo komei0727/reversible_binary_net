{
 "cells": [
  {
   "cell_type": "code",
   "execution_count": 1,
   "metadata": {},
   "outputs": [],
   "source": [
    "import numpy as np\n",
    "import random\n",
    "import matplotlib.pyplot as plt"
   ]
  },
  {
   "cell_type": "code",
   "execution_count": 2,
   "metadata": {},
   "outputs": [],
   "source": [
    "X_input = np.array([[0,0,0],[0,1,1],[1,0,1],[1,1,0]])\n"
   ]
  },
  {
   "cell_type": "code",
   "execution_count": 3,
   "metadata": {},
   "outputs": [],
   "source": [
    "random_shuffle = [random.sample(range(9), k=9), random.sample(range(9), k=9), random.sample(range(9), k=9), random.sample(range(9), k=9), random.sample(range(9), k=9)]"
   ]
  },
  {
   "cell_type": "code",
   "execution_count": 4,
   "metadata": {},
   "outputs": [],
   "source": [
    "X_param_all = np.zeros([10,7])"
   ]
  },
  {
   "cell_type": "code",
   "execution_count": 5,
   "metadata": {},
   "outputs": [
    {
     "name": "stdout",
     "output_type": "stream",
     "text": [
      "0.1839049945001863\n",
      "0.5150827353282164\n",
      "0.49420395108816473\n",
      "0.4959078101561049\n",
      "0.03897439895788705\n",
      "0------------------\n",
      "0.10701564054950716\n",
      "0.39006853617042253\n",
      "0.9122315124373979\n",
      "0.5562511821279083\n",
      "0.596164266586899\n",
      "1------------------\n",
      "0.020772373215171377\n",
      "0.09399207009121877\n",
      "0.1881397479895693\n",
      "0.8213374519125884\n",
      "0.01536694788557567\n",
      "2------------------\n",
      "0.021022554453391493\n",
      "0.15171409806716865\n",
      "0.7846088801507192\n",
      "0.37897148803518904\n",
      "0.29319036560153117\n",
      "3------------------\n",
      "0.00348056824515363\n",
      "0.06789746045848885\n",
      "0.7986988946620024\n",
      "0.29427560343567954\n",
      "0.21237134526673604\n",
      "4------------------\n",
      "0.24729516711237332\n",
      "0.3506182522301145\n",
      "0.42054285099623756\n",
      "0.7970938960362317\n",
      "0.1722043988805183\n",
      "5------------------\n",
      "0.20332385224093077\n",
      "0.22027829309085056\n",
      "0.7762494815600245\n",
      "0.4367457337246051\n",
      "0.3653576513296999\n",
      "6------------------\n",
      "0.01686543233794599\n",
      "0.3243937538806759\n",
      "0.3958996849126172\n",
      "0.7980448694307389\n",
      "0.13453834649861493\n",
      "7------------------\n",
      "0.00041395857453193626\n",
      "0.10519617805212128\n",
      "0.1995249820887455\n",
      "0.8227281664067122\n",
      "0.023631902444013416\n",
      "8------------------\n",
      "0.028128220798769508\n",
      "0.19574217540018113\n",
      "0.8425411331136525\n",
      "0.4631036524683583\n",
      "0.4130718009281162\n",
      "9------------------\n"
     ]
    }
   ],
   "source": [
    "for p in range(10):\n",
    "    E_all = np.zeros(10000)\n",
    "    X_param = np.random.rand(7)\n",
    "    for epoch in range(10000):\n",
    "        number = random.randint(0,3)\n",
    "        X_in = np.concatenate([X_input[number][:2],X_param])\n",
    "        X = np.zeros([5,9])\n",
    "        X_E5 = np.zeros(9)\n",
    "        X_54 = np.zeros([9,9])\n",
    "        X_43 = np.zeros([9,9])\n",
    "        X_32 = np.zeros([9,9])\n",
    "        X_21 = np.zeros([9,9])\n",
    "        X_10 = np.zeros([9,9])\n",
    "        X_20 = np.zeros([9,9])\n",
    "        X_30 = np.zeros([9,9])\n",
    "        X_40 = np.zeros([9,9])\n",
    "        X_50 = np.zeros([9,9])\n",
    "        X_E0 = np.zeros(9)\n",
    "        X_save = np.zeros(9)\n",
    "        X_save = X_in[random_shuffle[0]]\n",
    "        for i in range(5):\n",
    "            X[i][0] = X_save[0]\n",
    "            X[i][1] = (1-X_save[0])*X_save[1] + X_save[0]*X_save[2]\n",
    "            X[i][2] = (1-X_save[0])*X_save[2] + X_save[0]*X_save[1]\n",
    "            X[i][3] = X_save[3]\n",
    "            X[i][4] = (1-X_save[3])*X_save[4] + X_save[3]*X_save[5]\n",
    "            X[i][5] = (1-X_save[3])*X_save[5] + X_save[3]*X_save[4]\n",
    "            X[i][6] = X_save[6]\n",
    "            X[i][7] = (1-X_save[6])*X_save[7] + X_save[6]*X_save[8]\n",
    "            X[i][8] = (1-X_save[6])*X_save[8] + X_save[6]*X_save[7]\n",
    "\n",
    "            if i != 4:\n",
    "                X_save = X[i][random_shuffle[i+1]]\n",
    "\n",
    "        E = (X[4][6]-X_input[number][2])**2/2\n",
    "        E_all[epoch] = E\n",
    "        X_E5[6] = X[4][6]-X_input[number][2]\n",
    "\n",
    "        for i in range(3):\n",
    "            n = i*3\n",
    "            X_54[n][random_shuffle[4][n]] = 1\n",
    "            X_54[n+1][random_shuffle[4][n]] = X[3][random_shuffle[4][n+2]] - X[3][random_shuffle[4][n+1]]\n",
    "            X_54[n+1][random_shuffle[4][n+1]] = 1 - X[3][random_shuffle[4][n]]\n",
    "            X_54[n+1][random_shuffle[4][n+2]] = X[3][random_shuffle[4][n]]\n",
    "            X_54[n+2][random_shuffle[4][n]] = X[3][random_shuffle[4][n+1]] - X[3][random_shuffle[4][n+2]]\n",
    "            X_54[n+2][random_shuffle[4][n+1]] = X[3][random_shuffle[4][n]]\n",
    "            X_54[n+2][random_shuffle[4][n+2]] = 1 - X[3][random_shuffle[4][n]]\n",
    "            \n",
    "            X_43[n][random_shuffle[3][n]] = 1\n",
    "            X_43[n+1][random_shuffle[3][n]] = X[2][random_shuffle[3][n+2]] - X[2][random_shuffle[3][n+1]]\n",
    "            X_43[n+1][random_shuffle[3][n+1]] = 1 - X[2][random_shuffle[3][n]]\n",
    "            X_43[n+1][random_shuffle[3][n+2]] = X[2][random_shuffle[3][n]]\n",
    "            X_43[n+2][random_shuffle[3][n]] = X[2][random_shuffle[3][n+1]] - X[2][random_shuffle[3][n+2]]\n",
    "            X_43[n+2][random_shuffle[3][n+1]] = X[2][random_shuffle[3][n]]\n",
    "            X_43[n+2][random_shuffle[3][n+2]] = 1 - X[2][random_shuffle[3][n]]\n",
    "\n",
    "            X_32[n][random_shuffle[2][n]] = 1\n",
    "            X_32[n+1][random_shuffle[2][n]] = X[1][random_shuffle[2][n+2]] - X[1][random_shuffle[2][n+1]]\n",
    "            X_32[n+1][random_shuffle[2][n+1]] = 1 - X[1][random_shuffle[2][n]]\n",
    "            X_32[n+1][random_shuffle[2][n+2]] = X[1][random_shuffle[2][n]]\n",
    "            X_32[n+2][random_shuffle[2][n]] = X[1][random_shuffle[2][n+1]] - X[1][random_shuffle[2][n+2]]\n",
    "            X_32[n+2][random_shuffle[2][n+1]] = X[1][random_shuffle[2][n]]\n",
    "            X_32[n+2][random_shuffle[2][n+2]] = 1 - X[1][random_shuffle[2][n]]\n",
    "\n",
    "            X_21[n][random_shuffle[1][n]] = 1\n",
    "            X_21[n+1][random_shuffle[1][n]] = X[0][random_shuffle[1][n+2]] - X[0][random_shuffle[1][n+1]]\n",
    "            X_21[n+1][random_shuffle[1][n+1]] = 1 - X[0][random_shuffle[1][n]]\n",
    "            X_21[n+1][random_shuffle[1][n+2]] = X[0][random_shuffle[1][n]]\n",
    "            X_21[n+2][random_shuffle[1][n]] = X[0][random_shuffle[1][n+1]] - X[0][random_shuffle[1][n+2]]\n",
    "            X_21[n+2][random_shuffle[1][n+1]] = X[0][random_shuffle[1][n]]\n",
    "            X_21[n+2][random_shuffle[1][n+2]] = 1 - X[0][random_shuffle[1][n]]\n",
    "\n",
    "            X_10[n][random_shuffle[0][n]] = 1\n",
    "            X_10[n+1][random_shuffle[0][n]] = X_in[random_shuffle[0][n+2]] - X_in[random_shuffle[0][n+1]]\n",
    "            X_10[n+1][random_shuffle[0][n+1]] = 1 - X_in[random_shuffle[0][n]]\n",
    "            X_10[n+1][random_shuffle[0][n+2]] = X_in[random_shuffle[0][n]]\n",
    "            X_10[n+2][random_shuffle[0][n]] = X_in[random_shuffle[0][n+1]] - X_in[random_shuffle[0][n+2]]\n",
    "            X_10[n+2][random_shuffle[0][n+1]] = X_in[random_shuffle[0][n]]\n",
    "            X_10[n+2][random_shuffle[0][n+2]] = 1 - X_in[random_shuffle[0][n]]\n",
    "    \n",
    "\n",
    "        for i in range(9):\n",
    "            for j in range(9):\n",
    "                for k in range(9):\n",
    "                    X_20[k][j] += X_21[k][i] * X_10[i][j]\n",
    "\n",
    "        for i in range(9):\n",
    "            for j in range(9):\n",
    "                for k in range(9):\n",
    "                    X_30[k][j] += X_32[k][i] * X_20[i][j]\n",
    "\n",
    "        for i in range(9):\n",
    "            for j in range(9):\n",
    "                for k in range(9):\n",
    "                    X_40[k][j] += X_43[k][i] * X_30[i][j]\n",
    "\n",
    "        for i in range(9):\n",
    "            for j in range(9):\n",
    "                for k in range(9):\n",
    "                    X_50[k][j] += X_54[k][i] * X_40[i][j]\n",
    "\n",
    "        for i in range(9):\n",
    "            for j in range(9):\n",
    "                X_E0[j] += X_E5[i] * X_50[i][j]\n",
    "\n",
    "        X_param = X_param - 0.3*X_E0[2:]\n",
    "        for i in range(len(X_param)):\n",
    "            if X_param[i] > 1.0:\n",
    "                X_param[i] = 1.0\n",
    "            if X_param[i] < 0.0:\n",
    "                X_param[i] = 0.0\n",
    "    print(E_all[-1])\n",
    "        \n",
    "    if E_all[-1] < 1.0:\n",
    "        for number in range(4):\n",
    "            X_in = np.concatenate([X_input[number][:2],X_param])\n",
    "            X = np.zeros([5,9])\n",
    "            X_save = np.zeros(9)\n",
    "            X_save = X_in[random_shuffle[0]]\n",
    "            for i in range(5):\n",
    "                X[i][0] = X_save[0]\n",
    "                X[i][1] = (1-X_save[0])*X_save[1] + X_save[0]*X_save[2]\n",
    "                X[i][2] = (1-X_save[0])*X_save[2] + X_save[0]*X_save[1]\n",
    "                X[i][3] = X_save[3]\n",
    "                X[i][4] = (1-X_save[3])*X_save[4] + X_save[3]*X_save[5]\n",
    "                X[i][5] = (1-X_save[3])*X_save[5] + X_save[3]*X_save[4]\n",
    "                X[i][6] = X_save[6]\n",
    "                X[i][7] = (1-X_save[6])*X_save[7] + X_save[6]*X_save[8]\n",
    "                X[i][8] = (1-X_save[6])*X_save[8] + X_save[6]*X_save[7]\n",
    "\n",
    "                if i != 4:\n",
    "                    X_save = X[i][random_shuffle[i+1]]\n",
    "            print(X[4][6])\n",
    "        print(\"{}------------------\".format(p))\n",
    "        X_param_all[p] = X_param"
   ]
  },
  {
   "cell_type": "code",
   "execution_count": 6,
   "metadata": {},
   "outputs": [
    {
     "data": {
      "text/plain": [
       "array([[5.85713156e-02, 7.82304309e-01, 8.09171259e-01, 0.00000000e+00,\n",
       "        1.00000000e+00, 9.93832559e-01, 3.99041904e-01],\n",
       "       [1.00000000e+00, 6.12476635e-03, 3.52488487e-01, 5.81834878e-01,\n",
       "        5.52199636e-02, 1.04188678e-02, 1.00000000e+00],\n",
       "       [5.70912454e-05, 4.56982617e-03, 2.43636696e-01, 1.00000000e+00,\n",
       "        1.00000000e+00, 8.69200201e-03, 1.78232463e-02],\n",
       "       [9.65409979e-01, 0.00000000e+00, 3.75156719e-01, 2.15989866e-01,\n",
       "        0.00000000e+00, 0.00000000e+00, 9.73606200e-01],\n",
       "       [9.95765532e-01, 0.00000000e+00, 3.57795856e-01, 1.07428695e-01,\n",
       "        0.00000000e+00, 0.00000000e+00, 1.00000000e+00],\n",
       "       [0.00000000e+00, 0.00000000e+00, 4.37129836e-01, 9.78691941e-01,\n",
       "        9.76868760e-01, 0.00000000e+00, 2.87420033e-01],\n",
       "       [9.64678346e-01, 0.00000000e+00, 4.00022825e-01, 3.14638205e-01,\n",
       "        0.00000000e+00, 0.00000000e+00, 9.44595876e-01],\n",
       "       [0.00000000e+00, 0.00000000e+00, 4.44894860e-01, 9.97661686e-01,\n",
       "        9.64220179e-01, 0.00000000e+00, 2.47297430e-01],\n",
       "       [0.00000000e+00, 3.57907971e-03, 2.47011747e-01, 1.00000000e+00,\n",
       "        1.00000000e+00, 8.59003295e-03, 2.91114796e-02],\n",
       "       [9.94978450e-01, 0.00000000e+00, 4.42509363e-01, 3.69934096e-01,\n",
       "        0.00000000e+00, 0.00000000e+00, 1.00000000e+00]])"
      ]
     },
     "execution_count": 6,
     "metadata": {},
     "output_type": "execute_result"
    }
   ],
   "source": [
    "X_param_all"
   ]
  },
  {
   "cell_type": "code",
   "execution_count": 19,
   "metadata": {},
   "outputs": [
    {
     "data": {
      "text/plain": [
       "array([[ 0.0816641 ,  0.19695943,  0.45632734, -1.03218862,  1.0399786 ,\n",
       "        -0.52822561,  1.        ,  0.68096386,  1.2330986 ],\n",
       "       [ 1.0399786 ,  1.24241756,  0.99068104,  0.68096386, -0.55729824,\n",
       "        -0.01856304, -0.52822561,  0.02076215,  0.25786138],\n",
       "       [ 0.68096386,  0.66824318,  0.01687614, -0.01856304,  0.03095303,\n",
       "        -0.53841649,  0.99068104,  0.2651499 ,  1.03269008],\n",
       "       [ 0.03095303,  1.00015061,  0.01397643,  0.2651499 ,  0.3482975 ,\n",
       "        -0.2184708 ,  0.01687614,  0.68619069,  0.98545421],\n",
       "       [ 0.68619069,  0.4911881 ,  0.75941602,  0.03095303,  0.01406619,\n",
       "         0.01678638,  1.00015061,  0.34838286, -0.21855616]])"
      ]
     },
     "execution_count": 19,
     "metadata": {},
     "output_type": "execute_result"
    }
   ],
   "source": [
    "X"
   ]
  },
  {
   "cell_type": "code",
   "execution_count": 14,
   "metadata": {},
   "outputs": [
    {
     "data": {
      "text/plain": [
       "array([0.13718001, 0.13715978, 0.1009872 , ..., 0.10408516, 0.1579249 ,\n",
       "       0.02812822])"
      ]
     },
     "execution_count": 14,
     "metadata": {},
     "output_type": "execute_result"
    }
   ],
   "source": [
    "E_all"
   ]
  },
  {
   "cell_type": "code",
   "execution_count": 4,
   "metadata": {},
   "outputs": [],
   "source": [
    "t = np.linspace(1,10000,10000)"
   ]
  },
  {
   "cell_type": "code",
   "execution_count": 12,
   "metadata": {},
   "outputs": [
    {
     "data": {
      "text/plain": [
       "[<matplotlib.lines.Line2D at 0x7f3c599b2650>]"
      ]
     },
     "execution_count": 12,
     "metadata": {},
     "output_type": "execute_result"
    },
    {
     "data": {
      "image/png": "[encoded data removed]",
      "text/plain": [
       "<Figure size 432x288 with 1 Axes>"
      ]
     },
     "metadata": {
      "needs_background": "light"
     },
     "output_type": "display_data"
    }
   ],
   "source": [
    "plt.figure(0)\n",
    "plt.plot(t,E_all)"
   ]
  },
  {
   "cell_type": "code",
   "execution_count": 21,
   "metadata": {},
   "outputs": [
    {
     "name": "stdout",
     "output_type": "stream",
     "text": [
      "-0.0015440615732600915\n",
      "1.0000480475220053\n",
      "1.0074395140022014\n",
      "-0.0011813717766437043\n"
     ]
    }
   ],
   "source": [
    "for number in range(4):\n",
    "    X_in = np.concatenate([X_input[number][:2],X_param])\n",
    "    X = np.zeros([5,9])\n",
    "    X_E5 = np.zeros(9)\n",
    "    X_54 = np.zeros([9,9])\n",
    "    X_43 = np.zeros([9,9])\n",
    "    X_32 = np.zeros([9,9])\n",
    "    X_21 = np.zeros([9,9])\n",
    "    X_10 = np.zeros([9,9])\n",
    "    X_20 = np.zeros([9,9])\n",
    "    X_30 = np.zeros([9,9])\n",
    "    X_40 = np.zeros([9,9])\n",
    "    X_50 = np.zeros([9,9])\n",
    "    X_E0 = np.zeros(9)\n",
    "    X_save = np.zeros(9)\n",
    "    X_save = X_in[random_shuffle[0]]\n",
    "    for i in range(5):\n",
    "        X[i][0] = X_save[0]\n",
    "        X[i][1] = (1-X_save[0])*X_save[1] + X_save[0]*X_save[2]\n",
    "        X[i][2] = (1-X_save[0])*X_save[2] + X_save[0]*X_save[1]\n",
    "        X[i][3] = X_save[3]\n",
    "        X[i][4] = (1-X_save[3])*X_save[4] + X_save[3]*X_save[5]\n",
    "        X[i][5] = (1-X_save[3])*X_save[5] + X_save[3]*X_save[4]\n",
    "        X[i][6] = X_save[6]\n",
    "        X[i][7] = (1-X_save[6])*X_save[7] + X_save[6]*X_save[8]\n",
    "        X[i][8] = (1-X_save[6])*X_save[8] + X_save[6]*X_save[7]\n",
    "\n",
    "        if i != 4:\n",
    "            X_save = X[i][random_shuffle[i+1]]\n",
    "    print(X[4][6])"
   ]
  },
  {
   "cell_type": "code",
   "execution_count": 39,
   "metadata": {},
   "outputs": [
    {
     "data": {
      "text/plain": [
       "array([0.59152227, 0.12520228, 0.12505374, 0.48838617, 0.13898988,\n",
       "       0.51259095, 0.67174728, 0.62897155, 0.72983927, 0.61088821,\n",
       "       0.8078554 , 0.21351281, 0.80298085, 0.89464436, 0.38357842,\n",
       "       0.08743553, 0.98393155, 0.55360319, 0.73905167, 0.39184275,\n",
       "       0.0646782 , 0.82703287, 0.3180203 , 0.95898908, 0.8523114 ,\n",
       "       0.05315548, 0.52071569, 0.08750326, 0.90916905, 0.7227418 ,\n",
       "       0.3105091 , 0.05869248, 0.50438959, 0.70379368, 0.28776193,\n",
       "       0.89920877, 0.70110833, 0.25453374, 0.25459194, 0.42910254,\n",
       "       0.3006539 , 0.40328167, 0.23708306, 0.64462995, 0.48642417,\n",
       "       0.38955068, 0.52289934, 0.27599421, 0.20033826, 0.19872925,\n",
       "       0.43925147, 0.54817839, 0.75988984, 0.91920737, 0.19898342,\n",
       "       0.7499204 , 0.87567361, 0.68089742, 0.37149633, 0.13333587,\n",
       "       0.74017065, 0.57620914, 0.1286113 , 0.08451141, 0.98652002,\n",
       "       0.14960235, 0.50569324, 0.86292466, 0.48292608, 0.35103998,\n",
       "       0.35315018, 0.53773216, 0.1820623 , 0.41854225, 0.77364918,\n",
       "       0.47817679, 0.4354493 , 0.54680362, 0.59222448, 0.37365985,\n",
       "       0.29282458, 0.28706635, 0.65645389, 0.0690281 , 0.15716936,\n",
       "       0.9238211 , 0.72177333, 0.95216518, 0.88873533, 0.11583242,\n",
       "       0.74815773, 0.76871381, 0.90946301, 0.65718404, 0.61024922,\n",
       "       0.48115383, 0.44561269, 0.9222369 , 0.84179685, 0.09273129])"
      ]
     },
     "execution_count": 39,
     "metadata": {},
     "output_type": "execute_result"
    }
   ],
   "source": [
    "X_param_all[:,3]"
   ]
  },
  {
   "cell_type": "code",
   "execution_count": 21,
   "metadata": {},
   "outputs": [
    {
     "data": {
      "text/plain": [
       "[[4, 8, 1, 5, 7, 3, 0, 2, 6],\n",
       " [1, 4, 6, 3, 5, 8, 7, 2, 0],\n",
       " [7, 6, 3, 0, 2, 4, 8, 5, 1],\n",
       " [0, 8, 4, 6, 2, 3, 5, 1, 7],\n",
       " [5, 4, 1, 8, 2, 7, 3, 0, 6]]"
      ]
     },
     "execution_count": 21,
     "metadata": {},
     "output_type": "execute_result"
    }
   ],
   "source": [
    "random_shuffle"
   ]
  },
  {
   "cell_type": "code",
   "execution_count": 37,
   "metadata": {},
   "outputs": [
    {
     "data": {
      "text/plain": [
       "array([ 1.99999969,  0.793176  ,  0.49999995,  0.59152227, -1.99999971,\n",
       "        0.62306522,  0.49999994])"
      ]
     },
     "execution_count": 37,
     "metadata": {},
     "output_type": "execute_result"
    }
   ],
   "source": [
    "X_param_all[0]"
   ]
  },
  {
   "cell_type": "code",
   "execution_count": 46,
   "metadata": {},
   "outputs": [],
   "source": [
    "X_input = np.array([[0,0,0],[0,1,1],[1,0,1],[1,1,0]])\n",
    "random_shuffle = [random.sample(range(9), k=9), random.sample(range(9), k=9), random.sample(range(9), k=9), random.sample(range(9), k=9), random.sample(range(9), k=9)]"
   ]
  },
  {
   "cell_type": "code",
   "execution_count": 47,
   "metadata": {},
   "outputs": [
    {
     "name": "stdout",
     "output_type": "stream",
     "text": [
      "0.3349209334586647\n",
      "0.8413525045640543\n",
      "0.6733785781068243\n",
      "0.60994850424595\n"
     ]
    }
   ],
   "source": [
    "E_all = np.zeros(10000)\n",
    "X_param = np.random.rand(7)\n",
    "for epoch in range(10000):\n",
    "    number = random.randint(0,3)\n",
    "    X_in = np.concatenate([X_input[number][:2],X_param])\n",
    "    X = np.zeros([5,9])\n",
    "    X_E5 = np.zeros(9)\n",
    "    X_54 = np.zeros([9,9])\n",
    "    X_43 = np.zeros([9,9])\n",
    "    X_32 = np.zeros([9,9])\n",
    "    X_21 = np.zeros([9,9])\n",
    "    X_10 = np.zeros([9,9])\n",
    "    X_20 = np.zeros([9,9])\n",
    "    X_30 = np.zeros([9,9])\n",
    "    X_40 = np.zeros([9,9])\n",
    "    X_50 = np.zeros([9,9])\n",
    "    X_E0 = np.zeros(9)\n",
    "    X_save = np.zeros(9)\n",
    "    X_save = X_in[random_shuffle[0]]\n",
    "    for i in range(5):\n",
    "        X[i][0] = X_save[0]\n",
    "        X[i][1] = (1-X_save[0])*X_save[1] + X_save[0]*X_save[2]\n",
    "        X[i][2] = (1-X_save[0])*X_save[2] + X_save[0]*X_save[1]\n",
    "        X[i][3] = X_save[3]\n",
    "        X[i][4] = (1-X_save[3])*X_save[4] + X_save[3]*X_save[5]\n",
    "        X[i][5] = (1-X_save[3])*X_save[5] + X_save[3]*X_save[4]\n",
    "        X[i][6] = X_save[6]\n",
    "        X[i][7] = (1-X_save[6])*X_save[7] + X_save[6]*X_save[8]\n",
    "        X[i][8] = (1-X_save[6])*X_save[8] + X_save[6]*X_save[7]\n",
    "\n",
    "        if i != 4:\n",
    "            X_save = X[i][random_shuffle[i+1]]\n",
    "\n",
    "    E = (X[4][8]-X_input[number][2])**2/2\n",
    "    E_all[epoch] = E\n",
    "    X_E5[8] = X[4][8]-X_input[number][2]\n",
    "\n",
    "    for i in range(3):\n",
    "        n = i*3\n",
    "        X_54[n][random_shuffle[4][n]] = 1\n",
    "        X_54[n+1][random_shuffle[4][n]] = X[3][random_shuffle[4][n+2]] - X[3][random_shuffle[4][n+1]]\n",
    "        X_54[n+1][random_shuffle[4][n+1]] = 1 - X[3][random_shuffle[4][n]]\n",
    "        X_54[n+1][random_shuffle[4][n+2]] = X[3][random_shuffle[4][n]]\n",
    "        X_54[n+2][random_shuffle[4][n]] = X[3][random_shuffle[4][n+1]] - X[3][random_shuffle[4][n+2]]\n",
    "        X_54[n+2][random_shuffle[4][n+1]] = X[3][random_shuffle[4][n]]\n",
    "        X_54[n+2][random_shuffle[4][n+2]] = 1 - X[3][random_shuffle[4][n]]\n",
    "            \n",
    "        X_43[n][random_shuffle[3][n]] = 1\n",
    "        X_43[n+1][random_shuffle[3][n]] = X[2][random_shuffle[3][n+2]] - X[2][random_shuffle[3][n+1]]\n",
    "        X_43[n+1][random_shuffle[3][n+1]] = 1 - X[2][random_shuffle[3][n]]\n",
    "        X_43[n+1][random_shuffle[3][n+2]] = X[2][random_shuffle[3][n]]\n",
    "        X_43[n+2][random_shuffle[3][n]] = X[2][random_shuffle[3][n+1]] - X[2][random_shuffle[3][n+2]]\n",
    "        X_43[n+2][random_shuffle[3][n+1]] = X[2][random_shuffle[3][n]]\n",
    "        X_43[n+2][random_shuffle[3][n+2]] = 1 - X[2][random_shuffle[3][n]]\n",
    "\n",
    "        X_32[n][random_shuffle[2][n]] = 1\n",
    "        X_32[n+1][random_shuffle[2][n]] = X[1][random_shuffle[2][n+2]] - X[1][random_shuffle[2][n+1]]\n",
    "        X_32[n+1][random_shuffle[2][n+1]] = 1 - X[1][random_shuffle[2][n]]\n",
    "        X_32[n+1][random_shuffle[2][n+2]] = X[1][random_shuffle[2][n]]\n",
    "        X_32[n+2][random_shuffle[2][n]] = X[1][random_shuffle[2][n+1]] - X[1][random_shuffle[2][n+2]]\n",
    "        X_32[n+2][random_shuffle[2][n+1]] = X[1][random_shuffle[2][n]]\n",
    "        X_32[n+2][random_shuffle[2][n+2]] = 1 - X[1][random_shuffle[2][n]]\n",
    "\n",
    "        X_21[n][random_shuffle[1][n]] = 1\n",
    "        X_21[n+1][random_shuffle[1][n]] = X[0][random_shuffle[1][n+2]] - X[0][random_shuffle[1][n+1]]\n",
    "        X_21[n+1][random_shuffle[1][n+1]] = 1 - X[0][random_shuffle[1][n]]\n",
    "        X_21[n+1][random_shuffle[1][n+2]] = X[0][random_shuffle[1][n]]\n",
    "        X_21[n+2][random_shuffle[1][n]] = X[0][random_shuffle[1][n+1]] - X[0][random_shuffle[1][n+2]]\n",
    "        X_21[n+2][random_shuffle[1][n+1]] = X[0][random_shuffle[1][n]]\n",
    "        X_21[n+2][random_shuffle[1][n+2]] = 1 - X[0][random_shuffle[1][n]]\n",
    "\n",
    "        X_10[n][random_shuffle[0][n]] = 1\n",
    "        X_10[n+1][random_shuffle[0][n]] = X_in[random_shuffle[0][n+2]] - X_in[random_shuffle[0][n+1]]\n",
    "        X_10[n+1][random_shuffle[0][n+1]] = 1 - X_in[random_shuffle[0][n]]\n",
    "        X_10[n+1][random_shuffle[0][n+2]] = X_in[random_shuffle[0][n]]\n",
    "        X_10[n+2][random_shuffle[0][n]] = X_in[random_shuffle[0][n+1]] - X_in[random_shuffle[0][n+2]]\n",
    "        X_10[n+2][random_shuffle[0][n+1]] = X_in[random_shuffle[0][n]]\n",
    "        X_10[n+2][random_shuffle[0][n+2]] = 1 - X_in[random_shuffle[0][n]]\n",
    "    \n",
    "\n",
    "    for i in range(9):\n",
    "        for j in range(9):\n",
    "            for k in range(9):\n",
    "                X_20[k][j] += X_21[k][i] * X_10[i][j]\n",
    "\n",
    "    for i in range(9):\n",
    "        for j in range(9):\n",
    "            for k in range(9):\n",
    "                X_30[k][j] += X_32[k][i] * X_20[i][j]\n",
    "\n",
    "    for i in range(9):\n",
    "        for j in range(9):\n",
    "            for k in range(9):\n",
    "                X_40[k][j] += X_43[k][i] * X_30[i][j]\n",
    "\n",
    "    for i in range(9):\n",
    "        for j in range(9):\n",
    "            for k in range(9):\n",
    "                X_50[k][j] += X_54[k][i] * X_40[i][j]\n",
    "\n",
    "    for i in range(9):\n",
    "        for j in range(9):\n",
    "            X_E0[j] += X_E5[i] * X_50[i][j]\n",
    "\n",
    "    X_param = X_param - 0.3*X_E0[2:]\n",
    "    for i in range(len(X_param)):\n",
    "        if X_param[i] > 1.0:\n",
    "            X_param[i] = 1.0\n",
    "        if X_param[i] < 0.0:\n",
    "            X_param[i] = 0.0\n",
    "    \n",
    "        \n",
    "\n",
    "for number in range(4):\n",
    "    X_in = np.concatenate([X_input[number][:2],X_param])\n",
    "    X = np.zeros([5,9])\n",
    "    X_save = np.zeros(9)\n",
    "    X_save = X_in[random_shuffle[0]]\n",
    "    for i in range(5):\n",
    "        X[i][0] = X_save[0]\n",
    "        X[i][1] = (1-X_save[0])*X_save[1] + X_save[0]*X_save[2]\n",
    "        X[i][2] = (1-X_save[0])*X_save[2] + X_save[0]*X_save[1]\n",
    "        X[i][3] = X_save[3]\n",
    "        X[i][4] = (1-X_save[3])*X_save[4] + X_save[3]*X_save[5]\n",
    "        X[i][5] = (1-X_save[3])*X_save[5] + X_save[3]*X_save[4]\n",
    "        X[i][6] = X_save[6]\n",
    "        X[i][7] = (1-X_save[6])*X_save[7] + X_save[6]*X_save[8]\n",
    "        X[i][8] = (1-X_save[6])*X_save[8] + X_save[6]*X_save[7]\n",
    "\n",
    "        if i != 4:\n",
    "            X_save = X[i][random_shuffle[i+1]]\n",
    "    print(X[4][8])"
   ]
  },
  {
   "cell_type": "code",
   "execution_count": 17,
   "metadata": {},
   "outputs": [
    {
     "data": {
      "text/plain": [
       "[<matplotlib.lines.Line2D at 0x7fa12a5227d0>]"
      ]
     },
     "execution_count": 17,
     "metadata": {},
     "output_type": "execute_result"
    },
    {
     "data": {
      "image/png": "[encoded data removed]",
      "text/plain": [
       "<Figure size 432x288 with 1 Axes>"
      ]
     },
     "metadata": {
      "needs_background": "light"
     },
     "output_type": "display_data"
    }
   ],
   "source": [
    "t = np.linspace(1,5000,5000)\n",
    "plt.figure(0)\n",
    "plt.plot(t,E_all)"
   ]
  },
  {
   "cell_type": "code",
   "execution_count": 25,
   "metadata": {},
   "outputs": [
    {
     "data": {
      "text/plain": [
       "array([1.00000000e+000, 2.69875331e-001, 1.00000000e+000, 4.94065646e-324,\n",
       "       1.00000000e+000, 1.00000000e+000, 4.94065646e-324])"
      ]
     },
     "execution_count": 25,
     "metadata": {},
     "output_type": "execute_result"
    }
   ],
   "source": [
    "X_param"
   ]
  },
  {
   "cell_type": "code",
   "execution_count": 27,
   "metadata": {},
   "outputs": [
    {
     "data": {
      "text/plain": [
       "[[0, 6, 5, 7, 3, 4, 1, 8, 2],\n",
       " [3, 5, 1, 4, 8, 7, 0, 2, 6],\n",
       " [0, 3, 2, 4, 6, 1, 5, 8, 7],\n",
       " [1, 6, 0, 7, 8, 3, 4, 5, 2],\n",
       " [8, 5, 1, 3, 2, 0, 6, 4, 7]]"
      ]
     },
     "execution_count": 27,
     "metadata": {},
     "output_type": "execute_result"
    }
   ],
   "source": [
    "random_shuffle"
   ]
  },
  {
   "cell_type": "code",
   "execution_count": 57,
   "metadata": {},
   "outputs": [
    {
     "data": {
      "text/plain": [
       "array([1.        , 1.        , 1.        , 0.81362379, 0.        ,\n",
       "       0.55955581, 0.        ])"
      ]
     },
     "execution_count": 57,
     "metadata": {},
     "output_type": "execute_result"
    }
   ],
   "source": [
    "X_param"
   ]
  },
  {
   "cell_type": "code",
   "execution_count": 58,
   "metadata": {},
   "outputs": [
    {
     "data": {
      "text/plain": [
       "[[6, 0, 7, 8, 5, 2, 1, 3, 4],\n",
       " [7, 1, 2, 3, 0, 4, 8, 5, 6],\n",
       " [3, 2, 6, 5, 0, 1, 7, 4, 8],\n",
       " [0, 5, 4, 2, 6, 3, 1, 8, 7],\n",
       " [5, 1, 3, 7, 6, 0, 8, 2, 4]]"
      ]
     },
     "execution_count": 58,
     "metadata": {},
     "output_type": "execute_result"
    }
   ],
   "source": [
    "random_shuffle"
   ]
  },
  {
   "cell_type": "code",
   "execution_count": 18,
   "metadata": {},
   "outputs": [
    {
     "data": {
      "text/plain": [
       "array([1.00000000e+00, 9.81469074e-01, 1.00000000e+00, 1.00000000e+00,\n",
       "       0.00000000e+00, 2.06121852e-32, 0.00000000e+00])"
      ]
     },
     "execution_count": 18,
     "metadata": {},
     "output_type": "execute_result"
    }
   ],
   "source": [
    "X_param"
   ]
  },
  {
   "cell_type": "code",
   "execution_count": 19,
   "metadata": {},
   "outputs": [
    {
     "data": {
      "text/plain": [
       "[[1, 0, 2, 6, 5, 7, 8, 4, 3],\n",
       " [5, 7, 0, 6, 3, 2, 4, 1, 8],\n",
       " [4, 8, 1, 5, 7, 3, 6, 2, 0],\n",
       " [6, 0, 2, 8, 7, 1, 3, 4, 5],\n",
       " [0, 8, 3, 4, 7, 2, 6, 5, 1]]"
      ]
     },
     "execution_count": 19,
     "metadata": {},
     "output_type": "execute_result"
    }
   ],
   "source": [
    "random_shuffle"
   ]
  },
  {
   "cell_type": "code",
   "execution_count": 45,
   "metadata": {},
   "outputs": [
    {
     "data": {
      "text/plain": [
       "array([0.86766182, 0.53916513, 0.01733075, 1.        , 1.        ,\n",
       "       1.        , 0.0227005 ])"
      ]
     },
     "execution_count": 45,
     "metadata": {},
     "output_type": "execute_result"
    }
   ],
   "source": [
    "X_param"
   ]
  },
  {
   "cell_type": "code",
   "execution_count": null,
   "metadata": {},
   "outputs": [],
   "source": []
  }
 ],
 "metadata": {
  "kernelspec": {
   "display_name": "Python 3",
   "language": "python",
   "name": "python3"
  },
  "language_info": {
   "codemirror_mode": {
    "name": "ipython",
    "version": 3
   },
   "file_extension": ".py",
   "mimetype": "text/x-python",
   "name": "python",
   "nbconvert_exporter": "python",
   "pygments_lexer": "ipython3",
   "version": "3.7.6"
  }
 },
 "nbformat": 4,
 "nbformat_minor": 4
}
