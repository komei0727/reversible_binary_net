{
 "cells": [
  {
   "cell_type": "code",
   "execution_count": 1,
   "metadata": {},
   "outputs": [],
   "source": [
    "import numpy as np\n",
    "import random\n",
    "import matplotlib.pyplot as plt"
   ]
  },
  {
   "cell_type": "code",
   "execution_count": 2,
   "metadata": {},
   "outputs": [],
   "source": [
    "X_input = np.array([[0,0,0,0,0,0],[0,0,0,1,1,1],[1,1,1,0,0,0],[1,1,1,1,1,1]])\n",
    "X_label = np.array([0,1,1,0])\n",
    "E_all = np.zeros(10000)\n",
    "E_P4_all = np.zeros([10000,3,2])\n",
    "E_P2_all = np.zeros([10000,3,2])\n",
    "E_P0_all = np.zeros([10000,3,2])\n",
    "E_P5_all = np.zeros([10000,6,2])\n",
    "E_P3_all = np.zeros([10000,6,2])\n",
    "E_P1_all = np.zeros([10000,6,2])\n",
    "\n",
    "X_all = np.zeros([10000,6,6])\n",
    "param_and_all = np.zeros([10000,3,3,2])\n",
    "param_not_all = np.zeros([10000,3,6,2])"
   ]
  },
  {
   "cell_type": "code",
   "execution_count": 3,
   "metadata": {},
   "outputs": [],
   "source": [
    "shuffle = [[0,3,1,4,2,5],\n",
    "           [0,4,2,5,1,3],\n",
    "           [0,2,1,3,4,5]]"
   ]
  },
  {
   "cell_type": "code",
   "execution_count": 4,
   "metadata": {},
   "outputs": [],
   "source": [
    "param_and = np.random.rand(3,3,2)\n",
    "output_and = np.zeros([3,3,2])\n",
    "param_not = np.random.rand(3,6,2)\n",
    "output_not = np.zeros([3,6,2])\n",
    "param_and[:,:,1] = 1 - param_and[:,:,0]\n",
    "param_not[:,:,1] = 1 - param_not[:,:,0]\n",
    "for i in range(3):\n",
    "    for j in range(6):\n",
    "        if j%2==1:\n",
    "            param_not[i][j][0] = 1\n",
    "            param_not[i][j][1] = 0"
   ]
  },
  {
   "cell_type": "code",
   "execution_count": 111,
   "metadata": {},
   "outputs": [
    {
     "data": {
      "text/plain": [
       "8.0"
      ]
     },
     "execution_count": 111,
     "metadata": {},
     "output_type": "execute_result"
    }
   ],
   "source": [
    "4**2 / 2"
   ]
  },
  {
   "cell_type": "code",
   "execution_count": 45,
   "metadata": {},
   "outputs": [
    {
     "data": {
      "text/plain": [
       "array([[[1.26389168e-02, 9.87361083e-01],\n",
       "        [1.00000000e+00, 0.00000000e+00],\n",
       "        [0.00000000e+00, 1.00000000e+00],\n",
       "        [1.00000000e+00, 0.00000000e+00],\n",
       "        [9.99998041e-01, 1.95906645e-06],\n",
       "        [1.00000000e+00, 0.00000000e+00]],\n",
       "\n",
       "       [[2.29088895e-06, 9.99997709e-01],\n",
       "        [1.00000000e+00, 0.00000000e+00],\n",
       "        [6.40516487e-10, 9.99999999e-01],\n",
       "        [1.00000000e+00, 0.00000000e+00],\n",
       "        [9.00000000e-01, 1.00000000e-01],\n",
       "        [1.00000000e+00, 0.00000000e+00]],\n",
       "\n",
       "       [[2.93101097e-04, 9.99706899e-01],\n",
       "        [1.00000000e+00, 0.00000000e+00],\n",
       "        [9.00000000e-01, 1.00000000e-01],\n",
       "        [1.00000000e+00, 0.00000000e+00],\n",
       "        [9.00000000e-01, 1.00000000e-01],\n",
       "        [1.00000000e+00, 0.00000000e+00]]])"
      ]
     },
     "execution_count": 45,
     "metadata": {},
     "output_type": "execute_result"
    }
   ],
   "source": [
    "param_not"
   ]
  },
  {
   "cell_type": "code",
   "execution_count": 46,
   "metadata": {},
   "outputs": [],
   "source": [
    "param_and = np.array([[[0.1,0.9],[0.1,0.9],[0.9,0.1]],\n",
    "                      [[0.1,0.9],[0.1,0.9],[0.9,0.1]],\n",
    "                      [[0.1,0.9],[0.9,0.1],[0.9,0.1]]])\n",
    "param_not = np.array([[[0.1,0.9],[1,0],[0.1,0.9],[1,0],[0.9,0.1],[1,0]],\n",
    "                      [[0.1,0.9],[1,0],[0.1,0.9],[1,0],[0.9,0.1],[1,0]],\n",
    "                      [[0.1,0.9],[1,0],[0.9,0.1],[1,0],[0.9,0.1],[1,0]]])"
   ]
  },
  {
   "cell_type": "code",
   "execution_count": 4,
   "metadata": {},
   "outputs": [],
   "source": [
    "param_and = np.array([[[0,1],[0,1],[1,0]],\n",
    "                      [[0,1],[0,1],[1,0]],\n",
    "                      [[0,1],[1,0],[1,0]]])\n",
    "param_not = np.array([[[0,1],[1,0],[0,1],[1,0],[1,0],[1,0]],\n",
    "                      [[0,1],[1,0],[0,1],[1,0],[1,0],[1,0]],\n",
    "                      [[0,1],[1,0],[1,0],[1,0],[1,0],[1,0]]])"
   ]
  },
  {
   "cell_type": "code",
   "execution_count": 5,
   "metadata": {},
   "outputs": [],
   "source": [
    "for epoch in range(10000):\n",
    "    X = np.zeros([6,6])\n",
    "    X_save = np.zeros(6)\n",
    "    Pd_XX_54 = np.zeros([6,6])\n",
    "    Pd_XX_43 = np.zeros([6,6])\n",
    "    Pd_XX_32 = np.zeros([6,6])\n",
    "    Pd_XX_21 = np.zeros([6,6])\n",
    "    Pd_XX_10 = np.zeros([6,6])\n",
    "    Pd_XP_55 = np.zeros([6,6,2])\n",
    "    Pd_XP_33 = np.zeros([6,6,2])\n",
    "    Pd_XP_11 = np.zeros([6,6,2])\n",
    "    Pd_XP_44 = np.zeros([6,3,2])\n",
    "    Pd_XP_22 = np.zeros([6,3,2])\n",
    "    Pd_XP_00 = np.zeros([6,3,2])\n",
    "    Pd_EX5 = np.zeros(6)\n",
    "    Pd_EP5 = np.zeros([6,2])\n",
    "    Pd_EP3 = np.zeros([6,2])\n",
    "    Pd_EP1 = np.zeros([6,2])\n",
    "    Pd_XP_53 = np.zeros([6,6,2])\n",
    "    Pd_XP_43 = np.zeros([6,6,2])\n",
    "    Pd_XP_51 = np.zeros([6,6,2])\n",
    "    Pd_XP_41 = np.zeros([6,6,2])\n",
    "    Pd_XP_31 = np.zeros([6,6,2])\n",
    "    Pd_XP_21 = np.zeros([6,6,2])\n",
    "    Pd_EP4 = np.zeros([3,2])\n",
    "    Pd_EP2 = np.zeros([3,2])\n",
    "    Pd_EP0 = np.zeros([3,2])\n",
    "    Pd_XP_54 = np.zeros([6,3,2])\n",
    "    Pd_XP_52 = np.zeros([6,3,2])\n",
    "    Pd_XP_42 = np.zeros([6,3,2])\n",
    "    Pd_XP_32 = np.zeros([6,3,2])\n",
    "    Pd_XP_50 = np.zeros([6,3,2])\n",
    "    Pd_XP_40 = np.zeros([6,3,2])\n",
    "    Pd_XP_30 = np.zeros([6,3,2])\n",
    "    Pd_XP_20 = np.zeros([6,3,2])\n",
    "    Pd_XP_10 = np.zeros([6,3,2])\n",
    "    number = epoch%4\n",
    "    X_in = X_input[number]\n",
    "    X_save = X_in[shuffle[0]]\n",
    "    for i in range(3):\n",
    "        j = 2*i\n",
    "        X[j][0] = param_and[i][0][1]*(X_save[0]*X_save[1]+(1-X_save[0])*param_and[i][0][0]) + (1-param_and[i][0][1])*X_save[0]\n",
    "        X[j][1] = param_and[i][0][1]*(X_save[0]*param_and[i][0][0]+(1-X_save[0])*X_save[1]) + (1-param_and[i][0][1])*X_save[1]\n",
    "        X[j][2] = param_and[i][1][1]*(X_save[2]*X_save[3]+(1-X_save[2])*param_and[i][1][0]) + (1-param_and[i][1][1])*X_save[2]\n",
    "        X[j][3] = param_and[i][1][1]*(X_save[2]*param_and[i][1][0]+(1-X_save[2])*X_save[3]) + (1-param_and[i][1][1])*X_save[3]\n",
    "        X[j][4] = param_and[i][2][1]*(X_save[4]*X_save[5]+(1-X_save[4])*param_and[i][2][0]) + (1-param_and[i][2][1])*X_save[4]\n",
    "        X[j][5] = param_and[i][2][1]*(X_save[4]*param_and[i][2][0]+(1-X_save[4])*X_save[5]) + (1-param_and[i][2][1])*X_save[5]\n",
    "\n",
    "        X[j+1] = X[j]*param_not[i][:,0] + (1-X[j])*param_not[i][:,1]\n",
    "\n",
    "        if i != 2:\n",
    "            X_save = X[j+1][shuffle[i+1]]\n",
    "    E = (X[5][0]-X_label[number])**2 / 2\n",
    "    Pd_EX5[0] = X[5][0]-X_label[number]\n",
    "    #print(Pd_EX5[0])\n",
    "    E_all[epoch] = E\n",
    "    X_all[epoch] = X\n",
    "\n",
    "    for i in range(6):\n",
    "        if i%2 == 0:\n",
    "            Pd_XX_54[i][i] = param_not[2][i][0] - param_not[2][i][1]\n",
    "            Pd_XP_55[i][i][0] = X[4][i]\n",
    "            Pd_XP_55[i][i][1] = 1-X[4][i]\n",
    "            #print(Pd_XP_55[i][i][0])\n",
    "        else:\n",
    "            Pd_XX_54[i][i] = 1\n",
    "\n",
    "    #print(Pd_XP_55[0][0][0])\n",
    "    for i in range(3):\n",
    "        j = 2*i\n",
    "        Pd_XX_43[j][shuffle[2][j]] = param_and[2][i][1]*X[3][shuffle[2][j+1]] - param_and[2][i][1]*param_and[2][i][0] + 1 - param_and[2][i][1]\n",
    "        Pd_XX_43[j][shuffle[2][j+1]] = param_and[2][i][1]*X[3][shuffle[2][j]]\n",
    "        Pd_XP_44[j][i][0] = param_and[2][i][1]*(1-X[3][shuffle[2][j]])\n",
    "        Pd_XP_44[j][i][1] = X[3][shuffle[2][j]]*(X[3][shuffle[2][j+1]]-param_and[2][i][0]-1) + param_and[2][i][0]\n",
    "        Pd_XX_43[j+1][shuffle[2][j]] = param_and[2][i][1]*(param_and[2][i][0]-X[3][shuffle[2][j+1]])\n",
    "        Pd_XX_43[j+1][shuffle[2][j+1]] = 1 - param_and[2][i][1]*X[3][shuffle[2][j]]\n",
    "        Pd_XP_44[j+1][i][0] = param_and[2][i][1]*X[3][shuffle[2][j]]\n",
    "        Pd_XP_44[j+1][i][1] = X[3][shuffle[2][j]]*(param_and[2][i][0]-X[3][shuffle[2][j+1]])\n",
    "\n",
    "    for i in range(6):\n",
    "        if i%2 == 0:\n",
    "            Pd_XX_32[i][i] = param_not[1][i][0] - param_not[1][i][1]\n",
    "            Pd_XP_33[i][i][0] = X[2][i]\n",
    "            Pd_XP_33[i][i][1] = 1-X[2][i]\n",
    "        else:\n",
    "            Pd_XX_32[i][i] = 1\n",
    "\n",
    "    for i in range(3):\n",
    "        j = 2*i\n",
    "        Pd_XX_21[j][shuffle[1][j]] = param_and[1][i][1]*X[1][shuffle[1][j+1]] - param_and[1][i][1]*param_and[1][i][0] + 1 - param_and[1][i][1]\n",
    "        Pd_XX_21[j][shuffle[1][j+1]] = param_and[1][i][1]*X[1][shuffle[1][j]]\n",
    "        Pd_XP_22[j][i][0] = param_and[1][i][1]*(1-X[1][shuffle[1][j]])\n",
    "        Pd_XP_22[j][i][1] = X[1][shuffle[1][j]]*(X[1][shuffle[1][j+1]]-param_and[1][i][0]-1) + param_and[1][i][0]\n",
    "        Pd_XX_21[j+1][shuffle[1][j]] = param_and[1][i][1]*(param_and[1][i][0]-X[1][shuffle[1][j+1]])\n",
    "        Pd_XX_21[j+1][shuffle[1][j+1]] = 1 - param_and[1][i][1]*X[1][shuffle[1][j]]\n",
    "        Pd_XP_22[j+1][i][0] = param_and[1][i][1]*X[1][shuffle[1][j]]\n",
    "        Pd_XP_22[j+1][i][1] = X[1][shuffle[1][j]]*(param_and[1][i][0]-X[1][shuffle[1][j+1]])\n",
    "\n",
    "    for i in range(6):\n",
    "        if i%2 == 0:\n",
    "            Pd_XX_10[i][i] = param_not[0][i][0] - param_not[0][i][1]\n",
    "            Pd_XP_11[i][i][0] = X[0][i]\n",
    "            Pd_XP_11[i][i][1] = 1-X[0][i]\n",
    "        else:\n",
    "            Pd_XX_10[i][i] = 1\n",
    "\n",
    "    for i in range(3):\n",
    "        j = 2*i\n",
    "        Pd_XP_00[j][i][0] = param_and[0][i][1]*(1-X_in[shuffle[0][j]])\n",
    "        Pd_XP_00[j][i][1] = X_in[shuffle[0][j]]*(X_in[shuffle[0][j+1]]-param_and[0][i][0]-1) + param_and[0][i][0]\n",
    "        Pd_XP_00[j+1][i][0] = param_and[0][i][1]*X_in[shuffle[0][j]]\n",
    "        Pd_XP_00[j+1][i][1] = X_in[shuffle[0][j]]*(param_and[0][i][0]-X_in[shuffle[0][j+1]])\n",
    "        \n",
    "    for i in range(6):\n",
    "        if i%2 == 0:\n",
    "            j = int(i/2)\n",
    "        else:\n",
    "            j = int((i-1)/2)\n",
    "        Pd_XP_10[i][0][0] = Pd_XX_10[i][i]*Pd_XP_00[i][0][0]\n",
    "        Pd_XP_10[i][1][0] = Pd_XX_10[i][i]*Pd_XP_00[i][1][0]\n",
    "        Pd_XP_10[i][2][0] = Pd_XX_10[i][i]*Pd_XP_00[i][2][0]\n",
    "        \n",
    "        Pd_XP_21[i][0][0] = Pd_XX_21[i][shuffle[1][2*j]]*Pd_XP_11[shuffle[1][2*j]][0][0] + Pd_XX_21[i][shuffle[1][2*j+1]]*Pd_XP_11[shuffle[1][2*j+1]][0][0]\n",
    "        Pd_XP_21[i][2][0] = Pd_XX_21[i][shuffle[1][2*j]]*Pd_XP_11[shuffle[1][2*j]][2][0] + Pd_XX_21[i][shuffle[1][2*j+1]]*Pd_XP_11[shuffle[1][2*j+1]][2][0]\n",
    "        Pd_XP_21[i][4][0] = Pd_XX_21[i][shuffle[1][2*j]]*Pd_XP_11[shuffle[1][2*j]][4][0] + Pd_XX_21[i][shuffle[1][2*j+1]]*Pd_XP_11[shuffle[1][2*j+1]][4][0]\n",
    "\n",
    "        Pd_XP_32[i][0][0] = Pd_XX_32[i][i]*Pd_XP_22[i][0][0]\n",
    "        Pd_XP_32[i][1][0] = Pd_XX_32[i][i]*Pd_XP_22[i][1][0]\n",
    "        Pd_XP_32[i][2][0] = Pd_XX_32[i][i]*Pd_XP_22[i][2][0]\n",
    "        \n",
    "        Pd_XP_43[i][0][0] = Pd_XX_43[i][shuffle[2][2*j]]*Pd_XP_33[shuffle[2][2*j]][0][0] + Pd_XX_43[i][shuffle[2][2*j+1]]*Pd_XP_33[shuffle[2][2*j+1]][0][0]\n",
    "        Pd_XP_43[i][2][0] = Pd_XX_43[i][shuffle[2][2*j]]*Pd_XP_33[shuffle[2][2*j]][2][0] + Pd_XX_43[i][shuffle[2][2*j+1]]*Pd_XP_33[shuffle[2][2*j+1]][2][0]\n",
    "        Pd_XP_43[i][4][0] = Pd_XX_43[i][shuffle[2][2*j]]*Pd_XP_33[shuffle[2][2*j]][4][0] + Pd_XX_43[i][shuffle[2][2*j+1]]*Pd_XP_33[shuffle[2][2*j+1]][4][0]\n",
    "        \n",
    "        Pd_XP_54[i][0][0] = Pd_XX_54[i][i]*Pd_XP_44[i][0][0]\n",
    "        Pd_XP_54[i][1][0] = Pd_XX_54[i][i]*Pd_XP_44[i][1][0]\n",
    "        Pd_XP_54[i][2][0] = Pd_XX_54[i][i]*Pd_XP_44[i][2][0]\n",
    "        \n",
    "        Pd_EP5[i][0] = Pd_EX5[0] * Pd_XP_55[0][i][0]\n",
    "        \n",
    "    for i in range(6):\n",
    "        if i%2 == 0:\n",
    "            j = int(i/2)\n",
    "        else:\n",
    "            j = int((i-1)/2)\n",
    "        Pd_XP_20[i][0][0] = Pd_XX_21[i][shuffle[1][2*j]]*Pd_XP_10[shuffle[1][2*j]][0][0] + Pd_XX_21[i][shuffle[1][2*j+1]]*Pd_XP_10[shuffle[1][2*j+1]][0][0]\n",
    "        Pd_XP_20[i][1][0] = Pd_XX_21[i][shuffle[1][2*j]]*Pd_XP_10[shuffle[1][2*j]][1][0] + Pd_XX_21[i][shuffle[1][2*j+1]]*Pd_XP_10[shuffle[1][2*j+1]][1][0]\n",
    "        Pd_XP_20[i][2][0] = Pd_XX_21[i][shuffle[1][2*j]]*Pd_XP_10[shuffle[1][2*j]][2][0] + Pd_XX_21[i][shuffle[1][2*j+1]]*Pd_XP_10[shuffle[1][2*j+1]][2][0]\n",
    "        \n",
    "        Pd_XP_31[i][0][0] = Pd_XX_32[i][i]*Pd_XP_21[i][0][0]\n",
    "        Pd_XP_31[i][2][0] = Pd_XX_32[i][i]*Pd_XP_21[i][2][0]\n",
    "        Pd_XP_31[i][4][0] = Pd_XX_32[i][i]*Pd_XP_21[i][4][0]\n",
    "        \n",
    "        Pd_XP_42[i][0][0] = Pd_XX_43[i][shuffle[2][2*j]]*Pd_XP_32[shuffle[2][2*j]][0][0] + Pd_XX_43[i][shuffle[2][2*j+1]]*Pd_XP_32[shuffle[2][2*j+1]][0][0]\n",
    "        Pd_XP_42[i][1][0] = Pd_XX_43[i][shuffle[2][2*j]]*Pd_XP_32[shuffle[2][2*j]][1][0] + Pd_XX_43[i][shuffle[2][2*j+1]]*Pd_XP_32[shuffle[2][2*j+1]][1][0]\n",
    "        Pd_XP_42[i][2][0] = Pd_XX_43[i][shuffle[2][2*j]]*Pd_XP_32[shuffle[2][2*j]][2][0] + Pd_XX_43[i][shuffle[2][2*j+1]]*Pd_XP_32[shuffle[2][2*j+1]][2][0]\n",
    "        \n",
    "        Pd_XP_53[i][0][0] = Pd_XX_54[i][i]*Pd_XP_43[i][0][0]\n",
    "        Pd_XP_53[i][2][0] = Pd_XX_54[i][i]*Pd_XP_43[i][2][0]\n",
    "        Pd_XP_53[i][4][0] = Pd_XX_54[i][i]*Pd_XP_43[i][4][0]\n",
    "        \n",
    "    for i in range(3):\n",
    "        Pd_EP4[i][0] = Pd_EX5[0]*Pd_XP_54[0][i][0]\n",
    "        \n",
    "    for i in range(6):\n",
    "        if i%2 == 0:\n",
    "            j = int(i/2)\n",
    "        else:\n",
    "            j = int((i-1)/2)\n",
    "        \n",
    "        Pd_XP_30[i][0][0] = Pd_XX_32[i][i]*Pd_XP_20[i][0][0]\n",
    "        Pd_XP_30[i][1][0] = Pd_XX_32[i][i]*Pd_XP_20[i][1][0]\n",
    "        Pd_XP_30[i][2][0] = Pd_XX_32[i][i]*Pd_XP_20[i][2][0]\n",
    "        \n",
    "        Pd_XP_41[i][0][0] = Pd_XX_43[i][shuffle[2][2*j]]*Pd_XP_31[shuffle[2][2*j]][0][0] + Pd_XX_43[i][shuffle[2][2*j+1]]*Pd_XP_31[shuffle[2][2*j+1]][0][0]\n",
    "        Pd_XP_41[i][2][0] = Pd_XX_43[i][shuffle[2][2*j]]*Pd_XP_31[shuffle[2][2*j]][2][0] + Pd_XX_43[i][shuffle[2][2*j+1]]*Pd_XP_31[shuffle[2][2*j+1]][2][0]\n",
    "        Pd_XP_41[i][4][0] = Pd_XX_43[i][shuffle[2][2*j]]*Pd_XP_31[shuffle[2][2*j]][4][0] + Pd_XX_43[i][shuffle[2][2*j+1]]*Pd_XP_31[shuffle[2][2*j+1]][4][0]\n",
    "        \n",
    "        Pd_XP_52[i][0][0] = Pd_XX_54[i][i]*Pd_XP_42[i][0][0]\n",
    "        Pd_XP_52[i][1][0] = Pd_XX_54[i][i]*Pd_XP_42[i][1][0]\n",
    "        Pd_XP_52[i][2][0] = Pd_XX_54[i][i]*Pd_XP_42[i][2][0]\n",
    "        \n",
    "        Pd_EP3[i][0] = Pd_EX5[0]*Pd_XP_53[0][i][0]\n",
    "        \n",
    "    for i in range(6):\n",
    "        if i%2 == 0:\n",
    "            j = int(i/2)\n",
    "        else:\n",
    "            j = int((i-1)/2)\n",
    "        \n",
    "        Pd_XP_40[i][0][0] = Pd_XX_43[i][shuffle[2][2*j]]*Pd_XP_30[shuffle[2][2*j]][0][0] + Pd_XX_43[i][shuffle[2][2*j+1]]*Pd_XP_30[shuffle[2][2*j+1]][0][0]\n",
    "        Pd_XP_40[i][1][0] = Pd_XX_43[i][shuffle[2][2*j]]*Pd_XP_30[shuffle[2][2*j]][1][0] + Pd_XX_43[i][shuffle[2][2*j+1]]*Pd_XP_30[shuffle[2][2*j+1]][1][0]\n",
    "        Pd_XP_40[i][2][0] = Pd_XX_43[i][shuffle[2][2*j]]*Pd_XP_30[shuffle[2][2*j]][2][0] + Pd_XX_43[i][shuffle[2][2*j+1]]*Pd_XP_30[shuffle[2][2*j+1]][2][0]\n",
    "        \n",
    "        Pd_XP_51[i][0][0] = Pd_XX_54[i][i]*Pd_XP_41[i][0][0]\n",
    "        Pd_XP_51[i][2][0] = Pd_XX_54[i][i]*Pd_XP_41[i][2][0]\n",
    "        Pd_XP_51[i][4][0] = Pd_XX_54[i][i]*Pd_XP_41[i][4][0]\n",
    "        \n",
    "    for i in range(3):\n",
    "        Pd_EP2[i][0] = Pd_EX5[0]*Pd_XP_52[0][i][0]\n",
    "        \n",
    "    for i in range(6):\n",
    "        if i%2 == 0:\n",
    "            j = int(i/2)\n",
    "        else:\n",
    "            j = int((i-1)/2)\n",
    "        \n",
    "        Pd_XP_50[i][0][0] = Pd_XX_54[i][i]*Pd_XP_40[i][0][0]\n",
    "        Pd_XP_50[i][1][0] = Pd_XX_54[i][i]*Pd_XP_40[i][1][0]\n",
    "        Pd_XP_50[i][2][0] = Pd_XX_54[i][i]*Pd_XP_40[i][2][0]\n",
    "        \n",
    "        Pd_EP1[i][0] = Pd_EX5[0]*Pd_XP_51[0][i][0]\n",
    "        \n",
    "    for i in range(3):\n",
    "        Pd_EP0[i][0] = Pd_EX5[0]*Pd_XP_50[0][i][0]\n",
    "    \n",
    "    param_and[0] = param_and[0] - 0.1*Pd_EP0\n",
    "    param_not[0] = param_not[0] - 0.1*Pd_EP1\n",
    "    param_and[1] = param_and[1] - 0.1*Pd_EP2\n",
    "    param_not[1] = param_not[1] - 0.1*Pd_EP3\n",
    "    param_and[2] = param_and[2] - 0.1*Pd_EP4\n",
    "    param_not[2] = param_not[2] - 0.1*Pd_EP5\n",
    "    \n",
    "    param_and[:,:,1] = 1 - param_and[:,:,0]\n",
    "    param_not[:,:,1] = 1 - param_not[:,:,0]\n",
    "    \n",
    "    E_P5_all[epoch] = Pd_EP5\n",
    "    E_P4_all[epoch] = Pd_EP4\n",
    "    E_P3_all[epoch] = Pd_EP3\n",
    "    E_P2_all[epoch] = Pd_EP2\n",
    "    E_P1_all[epoch] = Pd_EP1\n",
    "    E_P0_all[epoch] = Pd_EP0\n",
    "    \n",
    "\n",
    "    for i in range(3):\n",
    "        for j in range(3):\n",
    "            for k in range(2):\n",
    "                if param_and[i][j][k] > 1.0:\n",
    "                    param_and[i][j][k] = 1.0\n",
    "                if param_and[i][j][k] < 0.0:\n",
    "                    param_and[i][j][k] = 0.0\n",
    "        for j in range(6):\n",
    "            for k in range(2):\n",
    "                if param_not[i][j][k] > 1.0:\n",
    "                    param_not[i][j][k] = 1.0\n",
    "                if param_not[i][j][k] < 0.0:\n",
    "                    param_not[i][j][k] = 0.0\n",
    "                    \n",
    "    param_and_all[epoch] = param_and\n",
    "    param_not_all[epoch] = param_not"
   ]
  },
  {
   "cell_type": "code",
   "execution_count": 130,
   "metadata": {},
   "outputs": [],
   "source": [
    "t = np.linspace(1,10000,10000)"
   ]
  },
  {
   "cell_type": "code",
   "execution_count": 96,
   "metadata": {},
   "outputs": [
    {
     "data": {
      "text/plain": [
       "[<matplotlib.lines.Line2D at 0x7efd42dbd710>]"
      ]
     },
     "execution_count": 96,
     "metadata": {},
     "output_type": "execute_result"
    },
    {
     "data": {
      "image/png": "[encoded data removed]",
      "text/plain": [
       "<Figure size 432x288 with 1 Axes>"
      ]
     },
     "metadata": {
      "needs_background": "light"
     },
     "output_type": "display_data"
    }
   ],
   "source": [
    "plt.figure(0)\n",
    "plt.plot(t,E_all[9000:10000])"
   ]
  },
  {
   "cell_type": "code",
   "execution_count": 64,
   "metadata": {},
   "outputs": [
    {
     "data": {
      "text/plain": [
       "[<matplotlib.lines.Line2D at 0x7efd43305190>]"
      ]
     },
     "execution_count": 64,
     "metadata": {},
     "output_type": "execute_result"
    },
    {
     "data": {
      "image/png": "[encoded data removed]",
      "text/plain": [
       "<Figure size 432x288 with 1 Axes>"
      ]
     },
     "metadata": {
      "needs_background": "light"
     },
     "output_type": "display_data"
    }
   ],
   "source": [
    "plt.figure(0)\n",
    "plt.plot(t,X_all[:,5][:,0])"
   ]
  },
  {
   "cell_type": "code",
   "execution_count": 65,
   "metadata": {},
   "outputs": [
    {
     "data": {
      "text/plain": [
       "[<matplotlib.lines.Line2D at 0x7efd4357f850>]"
      ]
     },
     "execution_count": 65,
     "metadata": {},
     "output_type": "execute_result"
    },
    {
     "data": {
      "image/png": "[encoded data removed]",
      "text/plain": [
       "<Figure size 432x288 with 1 Axes>"
      ]
     },
     "metadata": {
      "needs_background": "light"
     },
     "output_type": "display_data"
    }
   ],
   "source": [
    "plt.figure(0)\n",
    "plt.plot(t,E_P5_all[:,0][:,0])"
   ]
  },
  {
   "cell_type": "code",
   "execution_count": 132,
   "metadata": {},
   "outputs": [
    {
     "data": {
      "text/plain": [
       "[<matplotlib.lines.Line2D at 0x7efd429740d0>]"
      ]
     },
     "execution_count": 132,
     "metadata": {},
     "output_type": "execute_result"
    },
    {
     "data": {
      "image/png": "[encoded data removed]",
      "text/plain": [
       "<Figure size 432x288 with 1 Axes>"
      ]
     },
     "metadata": {
      "needs_background": "light"
     },
     "output_type": "display_data"
    }
   ],
   "source": [
    "plt.figure(0)\n",
    "plt.plot(t,param_and_all[:,2][:,0][:,0])"
   ]
  },
  {
   "cell_type": "code",
   "execution_count": 131,
   "metadata": {},
   "outputs": [
    {
     "data": {
      "text/plain": [
       "[<matplotlib.lines.Line2D at 0x7efd427a2890>]"
      ]
     },
     "execution_count": 131,
     "metadata": {},
     "output_type": "execute_result"
    },
    {
     "data": {
      "image/png": "[encoded data removed]",
      "text/plain": [
       "<Figure size 432x288 with 1 Axes>"
      ]
     },
     "metadata": {
      "needs_background": "light"
     },
     "output_type": "display_data"
    }
   ],
   "source": [
    "plt.figure(0)\n",
    "plt.plot(t,param_not_all[:,0][:,0][:,0])"
   ]
  },
  {
   "cell_type": "code",
   "execution_count": 6,
   "metadata": {},
   "outputs": [
    {
     "data": {
      "text/plain": [
       "array([[[8.02537116e-02, 9.19746288e-01],\n",
       "        [0.00000000e+00, 1.00000000e+00],\n",
       "        [9.99999999e-01, 7.66392838e-10]],\n",
       "\n",
       "       [[9.99999915e-01, 8.50236384e-08],\n",
       "        [0.00000000e+00, 1.00000000e+00],\n",
       "        [3.06112510e-01, 6.93887490e-01]],\n",
       "\n",
       "       [[2.35383584e-01, 7.64616416e-01],\n",
       "        [5.85113826e-02, 9.41488617e-01],\n",
       "        [7.36804678e-01, 2.63195322e-01]]])"
      ]
     },
     "execution_count": 6,
     "metadata": {},
     "output_type": "execute_result"
    }
   ],
   "source": [
    "param_and"
   ]
  },
  {
   "cell_type": "code",
   "execution_count": 7,
   "metadata": {},
   "outputs": [
    {
     "data": {
      "text/plain": [
       "array([[[4.93985048e-01, 5.06014952e-01],\n",
       "        [1.00000000e+00, 0.00000000e+00],\n",
       "        [1.00000000e+00, 0.00000000e+00],\n",
       "        [1.00000000e+00, 0.00000000e+00],\n",
       "        [1.00000000e+00, 5.36755085e-11],\n",
       "        [1.00000000e+00, 0.00000000e+00]],\n",
       "\n",
       "       [[9.99368292e-01, 6.31707648e-04],\n",
       "        [1.00000000e+00, 0.00000000e+00],\n",
       "        [0.00000000e+00, 1.00000000e+00],\n",
       "        [1.00000000e+00, 0.00000000e+00],\n",
       "        [1.04481349e-01, 8.95518651e-01],\n",
       "        [1.00000000e+00, 0.00000000e+00]],\n",
       "\n",
       "       [[9.95429782e-01, 4.57021767e-03],\n",
       "        [1.00000000e+00, 0.00000000e+00],\n",
       "        [2.10946689e-01, 7.89053311e-01],\n",
       "        [1.00000000e+00, 0.00000000e+00],\n",
       "        [7.21258877e-01, 2.78741123e-01],\n",
       "        [1.00000000e+00, 0.00000000e+00]]])"
      ]
     },
     "execution_count": 7,
     "metadata": {},
     "output_type": "execute_result"
    }
   ],
   "source": [
    "param_not"
   ]
  },
  {
   "cell_type": "code",
   "execution_count": 8,
   "metadata": {},
   "outputs": [
    {
     "name": "stdout",
     "output_type": "stream",
     "text": [
      "0.5933270862044897\n",
      "0.5933270862044897\n",
      "0.5932642456462969\n",
      "0.21002299683062586\n"
     ]
    }
   ],
   "source": [
    "for number in range(4):\n",
    "    X_in = X_input[number]\n",
    "    X_save = X_in[shuffle[0]]\n",
    "    for i in range(3):\n",
    "        j = 2*i\n",
    "        X[j][0] = param_and[i][0][1]*(X_save[0]*X_save[1]+(1-X_save[0])*param_and[i][0][0]) + (1-param_and[i][0][1])*X_save[0]\n",
    "        X[j][1] = param_and[i][0][1]*(X_save[0]*param_and[i][0][0]+(1-X_save[0])*X_save[1]) + (1-param_and[i][0][1])*X_save[1]\n",
    "        X[j][2] = param_and[i][1][1]*(X_save[2]*X_save[3]+(1-X_save[2])*param_and[i][1][0]) + (1-param_and[i][1][1])*X_save[2]\n",
    "        X[j][3] = param_and[i][1][1]*(X_save[2]*param_and[i][1][0]+(1-X_save[2])*X_save[3]) + (1-param_and[i][1][1])*X_save[3]\n",
    "        X[j][4] = param_and[i][2][1]*(X_save[4]*X_save[5]+(1-X_save[4])*param_and[i][2][0]) + (1-param_and[i][2][1])*X_save[4]\n",
    "        X[j][5] = param_and[i][2][1]*(X_save[4]*param_and[i][2][0]+(1-X_save[4])*X_save[5]) + (1-param_and[i][2][1])*X_save[5]\n",
    "\n",
    "        X[j+1] = X[j]*param_not[i][:,0] + (1-X[j])*param_not[i][:,1]\n",
    "\n",
    "        if i != 2:\n",
    "            X_save = X[j+1][shuffle[i+1]]\n",
    "    print(X[5][0])"
   ]
  },
  {
   "cell_type": "code",
   "execution_count": 82,
   "metadata": {},
   "outputs": [
    {
     "data": {
      "text/plain": [
       "array([[[1.        , 0.        ],\n",
       "        [0.        , 1.        ],\n",
       "        [0.95771566, 0.04228434]],\n",
       "\n",
       "       [[1.        , 0.        ],\n",
       "        [0.        , 1.        ],\n",
       "        [0.95771566, 0.04228434]],\n",
       "\n",
       "       [[1.        , 0.        ],\n",
       "        [0.        , 1.        ],\n",
       "        [0.95771566, 0.04228434]]])"
      ]
     },
     "execution_count": 82,
     "metadata": {},
     "output_type": "execute_result"
    }
   ],
   "source": [
    "param_and"
   ]
  },
  {
   "cell_type": "code",
   "execution_count": 83,
   "metadata": {},
   "outputs": [
    {
     "data": {
      "text/plain": [
       "array([[[0.        , 1.        ],\n",
       "        [1.        , 0.        ],\n",
       "        [0.13684724, 0.86315276],\n",
       "        [1.        , 0.        ],\n",
       "        [0.9       , 0.1       ],\n",
       "        [1.        , 0.        ]],\n",
       "\n",
       "       [[0.        , 1.        ],\n",
       "        [1.        , 0.        ],\n",
       "        [0.13684724, 0.86315276],\n",
       "        [1.        , 0.        ],\n",
       "        [0.9       , 0.1       ],\n",
       "        [1.        , 0.        ]],\n",
       "\n",
       "       [[0.        , 1.        ],\n",
       "        [1.        , 0.        ],\n",
       "        [0.13684724, 0.86315276],\n",
       "        [1.        , 0.        ],\n",
       "        [0.8       , 0.2       ],\n",
       "        [1.        , 0.        ]]])"
      ]
     },
     "execution_count": 83,
     "metadata": {},
     "output_type": "execute_result"
    }
   ],
   "source": [
    "param_not"
   ]
  },
  {
   "cell_type": "code",
   "execution_count": 17,
   "metadata": {},
   "outputs": [
    {
     "data": {
      "text/plain": [
       "array([[0.19007983, 0.        ],\n",
       "       [0.        , 0.        ],\n",
       "       [0.07593452, 0.        ],\n",
       "       [0.        , 0.        ],\n",
       "       [0.        , 0.        ],\n",
       "       [0.        , 0.        ]])"
      ]
     },
     "execution_count": 17,
     "metadata": {},
     "output_type": "execute_result"
    }
   ],
   "source": [
    "E_P5_all[0]"
   ]
  },
  {
   "cell_type": "code",
   "execution_count": 10,
   "metadata": {},
   "outputs": [
    {
     "data": {
      "text/plain": [
       "array([[[0.32421694, 0.67578306],\n",
       "        [0.36856923, 0.63143077],\n",
       "        [0.41534961, 0.58465039],\n",
       "        [0.98210384, 0.01789616],\n",
       "        [0.43611481, 0.56388519],\n",
       "        [0.98177647, 0.01822353]],\n",
       "\n",
       "       [[0.53838655, 0.46161345],\n",
       "        [0.36856923, 0.63143077],\n",
       "        [0.13750967, 0.86249033],\n",
       "        [0.98210384, 0.01789616],\n",
       "        [0.43611481, 0.56388519],\n",
       "        [0.98177647, 0.01822353]],\n",
       "\n",
       "       [[0.99444784, 0.00555216],\n",
       "        [0.36856923, 0.63143077],\n",
       "        [0.11526632, 0.88473368],\n",
       "        [0.98210384, 0.01789616],\n",
       "        [0.43611481, 0.56388519],\n",
       "        [0.98177647, 0.01822353]]])"
      ]
     },
     "execution_count": 10,
     "metadata": {},
     "output_type": "execute_result"
    }
   ],
   "source": [
    "param_not"
   ]
  },
  {
   "cell_type": "code",
   "execution_count": 12,
   "metadata": {},
   "outputs": [
    {
     "data": {
      "text/plain": [
       "array([[[0.68277911, 0.31722089],\n",
       "        [0.        , 1.        ],\n",
       "        [0.80630465, 0.19369535],\n",
       "        [0.96845016, 0.03154984],\n",
       "        [0.56668686, 0.43331314],\n",
       "        [0.73472567, 0.26527433]],\n",
       "\n",
       "       [[0.04827948, 0.95172052],\n",
       "        [0.        , 1.        ],\n",
       "        [0.80630465, 0.19369535],\n",
       "        [0.96845016, 0.03154984],\n",
       "        [0.58846598, 0.41153402],\n",
       "        [0.73472567, 0.26527433]],\n",
       "\n",
       "       [[0.64995968, 0.35004032],\n",
       "        [0.        , 1.        ],\n",
       "        [0.80630465, 0.19369535],\n",
       "        [0.96845016, 0.03154984],\n",
       "        [0.83032488, 0.16967512],\n",
       "        [0.73472567, 0.26527433]]])"
      ]
     },
     "execution_count": 12,
     "metadata": {},
     "output_type": "execute_result"
    }
   ],
   "source": [
    "param_not"
   ]
  },
  {
   "cell_type": "code",
   "execution_count": null,
   "metadata": {},
   "outputs": [],
   "source": [
    "param_and = np.random.rand(3,3,2)\n",
    "output_and = np.zeros([3,3,2])\n",
    "param_not = np.random.rand(3,6,2)\n",
    "output_not = np.zeros([3,6,2])\n",
    "X = np.zeros([6,6])\n",
    "X_save = np.zeros(6)\n",
    "Pd_XX_54 = Pd_XX_43 = Pd_XX_32 = Pd_XX_21 = Pd_XX_10 = np.zeros([6,6])\n",
    "Pd_XP_55 = Pd_XP_33 = Pd_XP_11 = np.zeros([6,6,2])\n",
    "Pd_XP_44 = Pd_XP_22 = Pd_XP_00 = np.zeros([6,3,2])\n",
    "Pd_EX5 = np.zeros(6)\n",
    "Pd_EP5 = Pd_EP3 = Pd_EP1 = np.zeros([6,2])\n",
    "Pd_XP_53 = Pd_XP_43 = Pd_XP_51 = Pd_XP_41 = Pd_XP_31 = Pd_XP_21 = np.zeros([6,6,2])\n",
    "Pd_EP4 = Pd_EP2 = Pd_EP0 = np.zeros([3,2])\n",
    "Pd_XP_54 = Pd_XP_52 = Pd_XP_42 = Pd_XP_32 = Pd_XP_50 = Pd_XP_40 = Pd_XP_30 = Pd_XP_20 = Pd_XP_10 = np.zeros([6,3,2])param_and[:,:,1] = 1 - param_and[:,:,0]"
   ]
  },
  {
   "cell_type": "code",
   "execution_count": null,
   "metadata": {},
   "outputs": [],
   "source": [
    "number = random.randint(0,3)\n",
    "X_in = X_input[number]\n",
    "X_save = X_in[shuffle[0]]\n",
    "for i in range(3):\n",
    "    j = 2*i\n",
    "    X[j][0] = param_and[i][0][1]*(X_save[0]*X_save[1]+(1-X_save[0])*param_and[i][0][0]) + (1-param_and[i][0][1])*X_save[0]\n",
    "    X[j][1] = param_and[i][0][1]*(X_save[0]*param_and[i][0][0]+(1-X_save[0])*X_save[1]) + (1-param_and[i][0][1])*X_save[1]\n",
    "    X[j][2] = param_and[i][1][1]*(X_save[2]*X_save[3]+(1-X_save[2])*param_and[i][1][0]) + (1-param_and[i][1][1])*X_save[2]\n",
    "    X[j][3] = param_and[i][1][1]*(X_save[2]*param_and[i][1][0]+(1-X_save[2])*X_save[3]) + (1-param_and[i][1][1])*X_save[3]\n",
    "    X[j][4] = param_and[i][2][1]*(X_save[4]*X_save[5]+(1-X_save[4])*param_and[i][2][0]) + (1-param_and[i][2][1])*X_save[4]\n",
    "    X[j][5] = param_and[i][2][1]*(X_save[4]*param_and[i][2][0]+(1-X_save[4])*X_save[5]) + (1-param_and[i][2][1])*X_save[5]\n",
    "\n",
    "    X[j+1] = X[j]*param_not[i][:,0] + (1-X[j])*param_not[i][:,1]\n",
    "\n",
    "    if i != 2:\n",
    "        X_save = X[j+1][shuffle[i+1]]\n",
    "E = (X[5][0]-X_label[number])**2 / 2\n",
    "Pd_EX5[0] = X[5][0] - X_label[number]"
   ]
  },
  {
   "cell_type": "code",
   "execution_count": 10,
   "metadata": {},
   "outputs": [],
   "source": [
    "for i in range(6):\n",
    "    Pd_XX_54[i][i] = param_not[2][i][0] - param_not[2][i][1]\n",
    "    Pd_XP_55[i][i][0] = X[4][i]\n",
    "    Pd_XP_55[i][i][1] = 1-X[4][i]\n",
    "    \n",
    "for i in range(3):\n",
    "    j = 2*i\n",
    "    Pd_XX_43[j][shuffle[2][j]] = param_and[2][i][1]*X[3][shuffle[2][j+1]] - param_and[2][i][1]*param_and[2][i][0] + 1 - param_and[2][i][1]\n",
    "    Pd_XX_43[j][shuffle[2][j+1]] = param_and[2][i][1]*X[3][shuffle[2][j]]\n",
    "    Pd_XP_44[j][i][0] = param_and[2][i][1]*(1-X[3][shuffle[2][j]])\n",
    "    Pd_XP_44[j][i][1] = X[3][shuffle[2][j]]*(X[3][shuffle[2][j+1]]-param_and[2][i][0]-1) + param_and[2][i][0]\n",
    "    Pd_XX_43[j+1][shuffle[2][j]] = param_and[2][i][1]*(param_and[2][i][0]-X[3][shuffle[2][j+1]])\n",
    "    Pd_XX_43[j+1][shuffle[2][j+1]] = 1 - param_and[2][i][1]*X[3][shuffle[2][j]]\n",
    "    Pd_XP_44[j+1][i][0] = param_and[2][i][1]*X[3][shuffle[2][j]]\n",
    "    Pd_XP_44[j+1][i][1] = X[3][shuffle[2][j]]*(param_and[2][i][0]-X[3][shuffle[2][j+1]])\n",
    "    \n",
    "for i in range(6):\n",
    "    Pd_XX_32[i][i] = param_not[1][i][0] - param_not[1][i][1]\n",
    "    Pd_XP_33[i][i][0] = X[2][i]\n",
    "    Pd_XP_33[i][i][1] = 1-X[2][i]\n",
    "    \n",
    "for i in range(3):\n",
    "    j = 2*i\n",
    "    Pd_XX_21[j][shuffle[1][j]] = param_and[1][i][1]*X[1][shuffle[1][j+1]] - param_and[1][i][1]*param_and[1][i][0] + 1 - param_and[1][i][1]\n",
    "    Pd_XX_21[j][shuffle[1][j+1]] = param_and[1][i][1]*X[1][shuffle[1][j]]\n",
    "    Pd_XP_22[j][i][0] = param_and[1][i][1]*(1-X[1][shuffle[1][j]])\n",
    "    Pd_XP_22[j][i][1] = X[1][shuffle[1][j]]*(X[1][shuffle[1][j+1]]-param_and[1][i][0]-1) + param_and[1][i][0]\n",
    "    Pd_XX_21[j+1][shuffle[1][j]] = param_and[1][i][1]*(param_and[1][i][0]-X[1][shuffle[1][j+1]])\n",
    "    Pd_XX_21[j+1][shuffle[1][j+1]] = 1 - param_and[1][i][1]*X[1][shuffle[1][j]]\n",
    "    Pd_XP_22[j+1][i][0] = param_and[1][i][1]*X[1][shuffle[1][j]]\n",
    "    Pd_XP_22[j+1][i][1] = X[1][shuffle[1][j]]*(param_and[1][i][0]-X[1][shuffle[1][j+1]])\n",
    "    \n",
    "for i in range(6):\n",
    "    Pd_XX_10[i][i] = param_not[0][i][0] - param_not[0][i][1]\n",
    "    Pd_XP_11[i][i][0] = X[0][i]\n",
    "    Pd_XP_11[i][i][1] = 1-X[0][i]\n",
    "    \n",
    "for i in range(3):\n",
    "    j = 2*i\n",
    "    Pd_XP_00[j][i][0] = param_and[0][i][1]*(1-X_in[shuffle[0][j]])\n",
    "    Pd_XP_00[j][i][1] = X_in[shuffle[0][j]]*(X_in[shuffle[0][j+1]]-param_and[0][i][0]-1) + param_and[0][i][0]\n",
    "    Pd_XP_00[j+1][i][0] = param_and[0][i][1]*X_in[shuffle[0][j]]\n",
    "    Pd_XP_00[j+1][i][1] = X_in[shuffle[0][j]]*(param_and[0][i][0]-X_in[shuffle[0][j+1]])"
   ]
  },
  {
   "cell_type": "code",
   "execution_count": 11,
   "metadata": {},
   "outputs": [
    {
     "data": {
      "text/plain": [
       "array([-0.23656007,  0.        ,  0.25909796,  0.        ,  0.83193935,\n",
       "        0.        ])"
      ]
     },
     "execution_count": 11,
     "metadata": {},
     "output_type": "execute_result"
    }
   ],
   "source": [
    "Pd_XX_54[0]"
   ]
  },
  {
   "cell_type": "code",
   "execution_count": 12,
   "metadata": {},
   "outputs": [],
   "source": []
  },
  {
   "cell_type": "code",
   "execution_count": 13,
   "metadata": {},
   "outputs": [],
   "source": [
    "for i in range(6):\n",
    "    Pd_EP5[i][0] = np.dot(Pd_EX5, Pd_XP_55[:,i][:,0])\n",
    "    Pd_EP5[i][1] = np.dot(Pd_EX5, Pd_XP_55[:,i][:,1])\n",
    "    \n",
    "    for j in range(3):\n",
    "        Pd_XP_54[i][j][0] = np.dot(Pd_XX_54[i], Pd_XP_44[:,j][:,0])\n",
    "        Pd_XP_54[i][j][1] = np.dot(Pd_XX_54[i], Pd_XP_44[:,j][:,1])\n",
    "        Pd_XP_32[i][j][0] = np.dot(Pd_XX_32[i], Pd_XP_22[:,j][:,0])\n",
    "        Pd_XP_32[i][j][1] = np.dot(Pd_XX_32[i], Pd_XP_22[:,j][:,1])\n",
    "        Pd_XP_10[i][j][0] = np.dot(Pd_XX_10[i], Pd_XP_00[:,j][:,0])\n",
    "        Pd_XP_10[i][j][1] = np.dot(Pd_XX_10[i], Pd_XP_00[:,j][:,1])\n",
    "        \n",
    "    for j in range(6):\n",
    "        Pd_XP_43[i][j][0] = np.dot(Pd_XX_43[i], Pd_XP_33[:,j][:,0])\n",
    "        Pd_XP_43[i][j][1] = np.dot(Pd_XX_43[i], Pd_XP_33[:,j][:,1])\n",
    "        Pd_XP_21[i][j][0] = np.dot(Pd_XX_21[i], Pd_XP_11[:,j][:,0])\n",
    "        Pd_XP_21[i][j][1] = np.dot(Pd_XX_21[i], Pd_XP_11[:,j][:,1])\n",
    "        \n",
    "for i in range(3):\n",
    "    Pd_EP4[i][0] = np.dot(Pd_EX5, Pd_XP_54[:,i][:,0])\n",
    "    Pd_EP4[i][1] = np.dot(Pd_EX5, Pd_XP_54[:,i][:,1])\n",
    "    \n",
    "for i in range(6):\n",
    "    for j in range(6):\n",
    "        Pd_XP_53[i][j][0] = np.dot(Pd_XX_54[i], Pd_XP_43[:,j][:,0])\n",
    "        Pd_XP_53[i][j][1] = np.dot(Pd_XX_54[i], Pd_XP_43[:,j][:,1])\n",
    "        Pd_XP_31[i][j][0] = np.dot(Pd_XX_32[i], Pd_XP_21[:,j][:,0])\n",
    "        Pd_XP_31[i][j][1] = np.dot(Pd_XX_32[i], Pd_XP_21[:,j][:,1])\n",
    "        \n",
    "    for j in range(3):\n",
    "        Pd_XP_42[i][j][0] = np.dot(Pd_XX_43[i], Pd_XP_32[:,j][:,0])\n",
    "        Pd_XP_42[i][j][1] = np.dot(Pd_XX_43[i], Pd_XP_32[:,j][:,1])\n",
    "        Pd_XP_20[i][j][0] = np.dot(Pd_XX_21[i], Pd_XP_10[:,j][:,0])\n",
    "        Pd_XP_20[i][j][1] = np.dot(Pd_XX_21[i], Pd_XP_10[:,j][:,1])\n",
    "        \n",
    "for i in range(6):\n",
    "    Pd_EP3[i][0] = np.dot(Pd_EX5, Pd_XP_53[:,i][:,0])\n",
    "    Pd_EP3[i][1] = np.dot(Pd_EX5, Pd_XP_53[:,i][:,1])\n",
    "    \n",
    "    for j in range(3):param_and[:,:,1] = 1 - param_and[:,:,0]\n",
    "        Pd_XP_52[i][j][0] = np.dot(Pd_XX_54[i], Pd_XP_42[:,j][:,0])\n",
    "        Pd_XP_52[i][j][1] = np.dot(Pd_XX_54[i], Pd_XP_42[:,j][:,1])\n",
    "        Pd_XP_30[i][j][0] = np.dot(Pd_XX_32[i], Pd_XP_20[:,j][:,0])\n",
    "        Pd_XP_30[i][j][1] = np.dot(Pd_XX_32[i], Pd_XP_20[:,j][:,1])\n",
    "        \n",
    "    for j in range(6):\n",
    "        Pd_XP_41[i][j][0] = np.dot(Pd_XX_43[i], Pd_XP_31[:,j][:,0])\n",
    "        Pd_XP_41[i][j][1] = np.dot(Pd_XX_43[i], Pd_XP_31[:,j][:,1])\n",
    "        \n",
    "for i in range(3):\n",
    "    Pd_EP2[i][0] = np.dot(Pd_EX5, Pd_XP_52[:,i][:,0])\n",
    "    Pd_EP2[i][1] = np.dot(Pd_EX5, Pd_XP_52[:,i][:,1])\n",
    "    \n",
    "    for j in range(3):\n",
    "        Pd_XP_40[i][j][0] = np.dot(Pd_XX_43[i], Pd_XP_30[:,j][:,0])\n",
    "        Pd_XP_40[i][j][1] = np.dot(Pd_XX_43[i], Pd_XP_30[:,j][:,1])\n",
    "        \n",
    "    for j in range(6):\n",
    "        Pd_XP_51[i][j][0] = np.dot(Pd_XX_54[i], Pd_XP_41[:,j][:,0])\n",
    "        Pd_XP_51[i][j][1] = np.dot(Pd_XX_54[i], Pd_XP_41[:,j][:,1])\n",
    "\n",
    "for i in range(6):\n",
    "    Pd_EP1[i][0] = np.dot(Pd_EX5, Pd_XP_51[:,i][:,0])\n",
    "    Pd_EP1[i][1] = np.dot(Pd_EX5, Pd_XP_51[:,i][:,1])\n",
    "    \n",
    "    for j in range(3):\n",
    "        Pd_XP_50[i][j][0] = np.dot(Pd_XX_54[i], Pd_XP_40[:,j][:,0])\n",
    "        Pd_XP_50[i][j][1] = np.dot(Pd_XX_54[i], Pd_XP_40[:,j][:,1])\n",
    "        \n",
    "for i in range(3):\n",
    "    Pd_EP0[i][0] = np.dot(Pd_EX5, Pd_XP_50[:,i][:,0])\n",
    "    Pd_EP0[i][1] = np.dot(Pd_EX5, Pd_XP_50[:,i][:,1])\n"
   ]
  },
  {
   "cell_type": "code",
   "execution_count": 24,
   "metadata": {},
   "outputs": [
    {
     "data": {
      "text/plain": [
       "array([[-0.07461718, -0.06464932],\n",
       "       [-0.06009626, -0.05795317],\n",
       "       [-0.08624759, -0.0887924 ]])"
      ]
     },
     "execution_count": 24,
     "metadata": {},
     "output_type": "execute_result"
    }
   ],
   "source": [
    "Pd_EP0"
   ]
  },
  {
   "cell_type": "code",
   "execution_count": 28,
   "metadata": {},
   "outputs": [
    {
     "data": {
      "text/plain": [
       "array([[0.87622743, 0.55944607],\n",
       "       [0.27865913, 0.53984942],\n",
       "       [0.22107059, 0.42549635]])"
      ]
     },
     "execution_count": 28,
     "metadata": {},
     "output_type": "execute_result"
    }
   ],
   "source": [
    "param_and[1]"
   ]
  },
  {
   "cell_type": "code",
   "execution_count": 14,
   "metadata": {},
   "outputs": [],
   "source": [
    "param_and[0] = param_and[0] - 0.1*Pd_EP0\n",
    "param_not[0] = param_not[0] - 0.1*Pd_EP1\n",
    "param_and[1] = param_and[1] - 0.1*Pd_EP2\n",
    "param_not[1] = param_not[1] - 0.1*Pd_EP3\n",
    "param_and[2] = param_and[2] - 0.1*Pd_EP4\n",
    "param_not[2] = param_not[2] - 0.1*Pd_EP5"
   ]
  },
  {
   "cell_type": "code",
   "execution_count": 15,
   "metadata": {},
   "outputs": [],
   "source": [
    "for i in range(3):\n",
    "    for j in range(3):\n",
    "        for k in range(2):\n",
    "            if param_and[i][j][k] > 1.0:\n",
    "                param_and[i][j][k] = 1.0\n",
    "            if param_and[i][j][k] < 0.0:\n",
    "                param_and[i][j][k] = 0.0\n",
    "    for j in range(6):\n",
    "        for k in range(2):\n",
    "            if param_not[i][j][k] > 1.0:\n",
    "                param_not[i][j][k] = 1.0\n",
    "            if param_not[i][j][k] < 0.0:\n",
    "                param_not[i][j][k] = 0.0"
   ]
  },
  {
   "cell_type": "code",
   "execution_count": 18,
   "metadata": {},
   "outputs": [
    {
     "data": {
      "text/plain": [
       "array([-0.6150006,  0.       ,  0.       ,  0.       ,  0.       ,\n",
       "        0.       ])"
      ]
     },
     "execution_count": 18,
     "metadata": {},
     "output_type": "execute_result"
    }
   ],
   "source": [
    "Pd_EX5"
   ]
  },
  {
   "cell_type": "code",
   "execution_count": 3,
   "metadata": {},
   "outputs": [],
   "source": [
    "P = np.array([[[0,1],[2,3],[4,5]],\n",
    "              [[6,7],[8,9],[0,1]],\n",
    "              [[2,3],[4,5],[6,7]]])"
   ]
  },
  {
   "cell_type": "code",
   "execution_count": 6,
   "metadata": {},
   "outputs": [
    {
     "data": {
      "text/plain": [
       "array([0, 6, 2])"
      ]
     },
     "execution_count": 6,
     "metadata": {},
     "output_type": "execute_result"
    }
   ],
   "source": [
    "P[:,0][:,0]"
   ]
  },
  {
   "cell_type": "code",
   "execution_count": 9,
   "metadata": {},
   "outputs": [],
   "source": [
    "Pd_XX_0in[0][shuffle[0][0]] = param_and[0][1]*X_in[shuffle[0][1]] - param_and[0][1]*param_and[0][0] + 1 - param_and[0][1]\n",
    "Pd_XX_0in[0][shuffle[0][1]] = param_and[0][1]*X_in[shuffle[0][0]]\n",
    "Pd_XP_00[0][0] = 1 - X_in[shuffle[0][0]] \n",
    "Pd_XP_00[0][1] = X_in[shuffle[0][0]]*X_in[shuffle[0][1]] + (1-X_in[shuffle[0][0]])*param_and[0][0] - X_in[shuffle[0][0]]\n",
    "Pd_XX_0in[1][shuffle[0][0]] = param_and[0][1]*param_and[0][0] - param_and[0][1]*X_in[shuffle[0][1]]\n",
    "Pd_XX_0in[1][shuffle[0][1]] = 1 - param_and[0][1]*X_in[shuffle[0][0]]\n",
    "Pd_XP_00[1][0] = param_and[0][1]*X_in[shuffle[0][0]]\n",
    "Pd_XP_00[1][1] = X_in[shuffle[0][0]]*(param_and[0][0]-X_in[shuffle[0][1]])"
   ]
  },
  {
   "cell_type": "code",
   "execution_count": 10,
   "metadata": {},
   "outputs": [
    {
     "data": {
      "text/plain": [
       "array([[0.59878038, 0.        , 0.        , 0.        , 0.        ,\n",
       "        0.        ],\n",
       "       [0.19027872, 0.        , 0.        , 1.        , 0.        ,\n",
       "        0.        ],\n",
       "       [0.        , 0.        , 0.        , 0.        , 0.        ,\n",
       "        0.        ],\n",
       "       [0.        , 0.        , 0.        , 0.        , 0.        ,\n",
       "        0.        ],\n",
       "       [0.        , 0.        , 0.        , 0.        , 0.        ,\n",
       "        0.        ],\n",
       "       [0.        , 0.        , 0.        , 0.        , 0.        ,\n",
       "        0.        ]])"
      ]
     },
     "execution_count": 10,
     "metadata": {},
     "output_type": "execute_result"
    }
   ],
   "source": [
    "Pd_XX_0in"
   ]
  },
  {
   "cell_type": "code",
   "execution_count": 6,
   "metadata": {},
   "outputs": [],
   "source": [
    "param_and = np.array([[[0,1],[0,1],[0,0]],\n",
    "                      [[0,1],[0,1],[0,0]],\n",
    "                      [[0,1],[0,0],[0,0]]])\n",
    "param_not = np.array([[[0,1],[1,0],[0,1],[1,0],[1,0],[1,0]],\n",
    "                      [[0,1],[1,0],[0,1],[1,0],[1,0],[1,0]],\n",
    "                      [[0,1],[1,0],[1,0],[1,0],[1,0],[1,0]]])"
   ]
  },
  {
   "cell_type": "code",
   "execution_count": 9,
   "metadata": {},
   "outputs": [
    {
     "data": {
      "text/plain": [
       "array([[0, 1],\n",
       "       [1, 0],\n",
       "       [0, 1],\n",
       "       [1, 0],\n",
       "       [1, 0],\n",
       "       [1, 0]])"
      ]
     },
     "execution_count": 9,
     "metadata": {},
     "output_type": "execute_result"
    }
   ],
   "source": [
    "param_not[0]"
   ]
  },
  {
   "cell_type": "code",
   "execution_count": 10,
   "metadata": {},
   "outputs": [
    {
     "data": {
      "text/plain": [
       "array([0, 1, 0, 1, 1, 1])"
      ]
     },
     "execution_count": 10,
     "metadata": {},
     "output_type": "execute_result"
    }
   ],
   "source": [
    "param_not[0][:,0]"
   ]
  },
  {
   "cell_type": "code",
   "execution_count": 24,
   "metadata": {},
   "outputs": [
    {
     "data": {
      "text/plain": [
       "array([[0., 1., 0., 1., 0., 1.],\n",
       "       [1., 1., 1., 1., 0., 1.],\n",
       "       [0., 0., 1., 0., 1., 1.],\n",
       "       [1., 0., 0., 0., 1., 1.],\n",
       "       [0., 0., 0., 0., 1., 1.],\n",
       "       [1., 0., 0., 0., 1., 1.]])"
      ]
     },
     "execution_count": 24,
     "metadata": {},
     "output_type": "execute_result"
    }
   ],
   "source": [
    "X"
   ]
  },
  {
   "cell_type": "code",
   "execution_count": null,
   "metadata": {},
   "outputs": [],
   "source": []
  }
 ],
 "metadata": {
  "kernelspec": {
   "display_name": "Python 3",
   "language": "python",
   "name": "python3"
  },
  "language_info": {
   "codemirror_mode": {
    "name": "ipython",
    "version": 3
   },
   "file_extension": ".py",
   "mimetype": "text/x-python",
   "name": "python",
   "nbconvert_exporter": "python",
   "pygments_lexer": "ipython3",
   "version": "3.7.6"
  }
 },
 "nbformat": 4,
 "nbformat_minor": 4
}
